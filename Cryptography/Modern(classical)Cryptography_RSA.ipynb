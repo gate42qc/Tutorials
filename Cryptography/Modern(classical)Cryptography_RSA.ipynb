{
 "cells": [
  {
   "cell_type": "markdown",
   "metadata": {},
   "source": [
    "# Modern Cryptography"
   ]
  },
  {
   "cell_type": "markdown",
   "metadata": {},
   "source": [
    "In this section, we will learn about modern cryptography and how it is used to protect data through the use of encryption.\n"
   ]
  },
  {
   "cell_type": "markdown",
   "metadata": {},
   "source": [
    "## Contents\n",
    "\n",
    "1. [Introduction](#introduction)\n",
    "   - [Key Generation and Distribution:](#keygendist)\n",
    "   - [Message Encryption and Decryption](#encdec)\n",
    "\n",
    "2. [Example](#example)\n",
    "\n",
    "3. [Problems](#problems)"
   ]
  },
  {
   "cell_type": "markdown",
   "metadata": {},
   "source": [
    "## 1. Introduction <a id='introduction'></a>"
   ]
  },
  {
   "cell_type": "markdown",
   "metadata": {},
   "source": [
    "Every day we generate, accumulate, and communicate tremendous amounts of data. Everything from our personal emails, ﬁnancial transactions, and medical records, to a corporation’s intellectual property, business strategy, and online sales, to the daily operation and functioning of our government and military organizations. In each of these cases we expect, even require, that our information is stored and communicated securely such that it’s available to ourselves and to our intended recipients, but to nobody else.  \n",
    "Public key cryptography was developed in the 1970s by several groups. Whitﬁeld Difﬁe and Martin Hellman published the ﬁrst public key cryptography scheme, the [Difﬁe-Hellman key exchange](https://en.wikipedia.org/wiki/Diffie%E2%80%93Hellman_key_exchange) protocol, in 1976. And later in 1978, the [RSA algorithm](https://simple.wikipedia.org/wiki/RSA_algorithm) was published by Ronald Rivest, Adi Shamir, and Len Adleman. In fact, researchers at the British General Communications Headquarters, GCHQ, had developed similar public key cryptography schemes in the early 1970s, but only declassiﬁed those achievements in 1997.  \n",
    "Public key cryptography is based on asymmetric keys, that is, a public key is used for encryption and a separate independent, private key is used for decryption. The keys are necessarily related to one another mathematically and the information security **relies on it being computationally impractical to determine the private key given the public key**. This is generally possible through the use of one-way mathematical functions. For example, RSA cryptography is based on the idea that it’s mathematically easy for a computer to multiply two large prime numbers, $p$ and $q$, and obtain their product, $N$. But it’s a very hard problem for a computer to do the inverse, that is, factor that number, $N$, into its constituent prime factors, $p$ and $q$. So with one-way mathematical functions, ease of use is based on the mathematical *simplicity in the forward direction* and *security is based on mathematical complexity in the inverse direction*.  \n",
    "\n",
    "Information is protected through the use of encryption. [Encryption](https://en.wikipedia.org/wiki/Encryption) takes raw data, for example, a message, often referred to as *plain text*, and translates it or encodes it into an unrecognizable message called a *cyphertext*. It does this by using an algorithm called a *cypher*. A cypher takes as inputs the plaintext being encoded and a key, typically a numerical bit string in today’s cryptography schemes.  \n",
    "\n",
    "**Cypher**  \n",
    "Combines plain text into an unreadable cyphertext through a prescribed algorithmic protocol based on mathematical operations.  \n",
    "\n",
    "Similarly, a decryption key is used with a corresponding decryption protocol to reconstruct the plaintext message. The most common cryptography schemes historically are called [symmetric key cryptography](https://en.wikipedia.org/wiki/Symmetric-key_algorithm) in which the encryption and decryption keys are the same or can be trivially related to one another. Examples include the older [data encryption standard](https://en.wikipedia.org/wiki/Data_Encryption_Standard), **DES, and the more modern [advanced encryption standard](https://en.wikipedia.org/wiki/Advanced_Encryption_Standard), **AES**. The [one-time pad](https://en.wikipedia.org/wiki/One-time_pad) is another example of a symmetric key cryptography scheme. Since symmetric keys are used to both encrypt and decrypt a message, they must remain private. This isn’t a serious issue on, say, a personal computer where we want to encrypt the hard drive and so the keys are stored locally. However, it raises a challenge when communicating information. When two parties want to communicate securely, they either need to meet in advance to secretly share the symmetric keys – not a very practical option – or they need to establish private channels to securely distribute the key.  \n",
    "In the future, efﬁcient quantum key distribution protocols may provide a quantum enhanced level of security when transmitting a secret symmetric key. But today, secure communication links are generally established through the use of [public key cryptography](https://en.wikipedia.org/wiki/Public-key_cryptography) based on **asymmetric** keys.  \n",
    "\n",
    "To get an idea for how this works, consider the following scenario.  \n"
   ]
  },
  {
   "cell_type": "markdown",
   "metadata": {},
   "source": [
    "## Key Generation and Distribution <a id='keygendist'></a>\n",
    "**Bob** wants to communicate a message securely to **Alice** without that message being read by an eavesdropper, Eve. To do this, Bob *requests* a public encryption key from Alice.  \n",
    "The encryption and decryption keys are generated using a one-way function related to modular exponentiation. To begin, two distinct prime numbers p and q are chosen at random. Key generation then centers on the function\n",
    "\n",
    "$$f(x) = a^x \\mod N,$$\n",
    "where $a \\neq p,q$ is an integer number, the modulus $N = pq$. The term ”modular exponentiation” refers to there being an exponential $a^x$ that is calculated modulo $N$.  \n",
    "From the [number theory of modular exponentiation](https://en.wikipedia.org/wiki/Modular_exponentiation), it is known that the function $f(x)$ is periodic with period $r$, and ﬁnding the value of $r$ is called **order ﬁnding**. Order ﬁnding is a manageable task if one knows $p$ and $q$, but not if one only knows their product $N$. This is the one-way function that underlies the security of RSA.  \n",
    "To see this, consider the following. When $x = 0$ in the above function, $f(0) = a^0 \\mod N = 1$. If $f(x)$ is periodic in $r$, then it follows that the function $f(r)$, $f(2r)$, $f(3r)$, ... must also equal $1$. The period $r$ can be derived using [Fermat’s little theorem](https://en.wikipedia.org/wiki/Fermat%27s_little_theorem), which uses [Euler’s totient function](https://en.wikipedia.org/wiki/Euler7s_totient_function)\n",
    "\n",
    "$$r = (p−1)(q−1)$$\n",
    "to ﬁnd the period r.  \n",
    "\n",
    "In essence, Euler’s totient function gives the number of positive integers smaller than the product $pq = N$ which have no prime factors in common with $N$ – that is, coprime with $p, q,$ and $N$ – and Fermat’s little theorem shows that this is the period $r$. Note that $r$ may be the fundamental period, or it may be an integer multiple of the fundamental period. The fundamental period is the least common multiple of $(p − 1)$ and $(q − 1)$. Both the fundamental period or a multiple of the fundamental period will work.\n",
    "\n",
    "With $p$ and $q$ known, the totient can be easily calculated with a classical computer. However, if one is only given $N$ (without knowledge of $p$ and $q$), then one must factor $N$ to ﬁnd $p$ and $q$ and thereby ﬁnd the period $r$. **Factoring is a hard problem for a classical computer.**\n",
    "\n",
    "With the period $r$ in hand, one can generate the public key $\\textbf{e, N}$ and private key $\\textbf{d, N}$. One ﬁrst chooses a public encryption exponent $\\textbf{e}$ that satisﬁes the following conditions:\n",
    "\n",
    "$$1. ~~~3 ≤ e ≤ (N −1),$$\n",
    "\n",
    "$$ 2. ~~~ e~~ \\text{is coprime with} ~~r$$  \n",
    "\n",
    "The second condition means that there is no integer (other than $1$) that divides both $e$ and $r$, and so their [greatest common divisor](https://mathworld.wolfram.com/GreatestCommonDivisor.html) $(\\gcd)$ is $1$. This is written as $\\gcd(e,r) = 1$.\n",
    "Once a value of $e$ is chosen, then one calculates a private decryption exponent $d$ as the modular multiplicative inverse of $e$, modulo $r$:\n",
    "\n",
    "$$d = e^{−1} \\mod r.$$\n",
    "\n",
    "Note that the notation for the modular multiplicative inverse above, while often found, can be misleading. $d = e^{−1} \\mod r$ is another way of writing $d$ such that $$de \\mod r = 1.$$ It does not mean to take the reciprocal of $e$.\n",
    "\n"
   ]
  },
  {
   "cell_type": "markdown",
   "metadata": {},
   "source": [
    "## Message Encryption and Decryption <a id='encdec'></a>\n",
    "Alice then sends a public encryption key, but retains her private decryption key. During transmission on a public channel, in principle, Eve, in principle, obtains the encryption key. When Bob receives, he encrypts his plaintext message using the encryption key, creating cyphertext. Bob then sends the cyphertext back to Alice on a public channel. Although Eve can obtain the cyphertext in principle, she can’t unlock the padlock since she only has the public encryption key. The security here is based on it being very hard for Eve to ﬁgure out the decryption key based on what she has in her possession. Alice, on the other hand, is able to trivially unlock the cyphertext with her decryption key, thereby converting the cyphertext to plaintext and reading the message. This type of public key encryption scheme is used ubiquitously today for secure communication. In many cases, it’s used to establish a private channel that provides [authentication](https://en.wikipedia.org/wiki/Message_authentication_code) and enables symmetric keys to be exchanged securely. This is because the public key approach based on asymmetric keys is generally slower to implement than symmetric schemes. Public key encryption is a foundation for our information security today.  \n",
    "This is how it is realized step by step:  \n",
    "Having received the public encryption key $\\{e,N\\}$, Bob he encrypts his message $m$ to create cyphertext $c$ using the public key and modular exponentiation:  \n",
    "\n",
    "$$\n",
    "c = m^e \\mod N.\n",
    "$$  \n",
    "After the message is sent to Alice, she decrypts it with her private key $\\{d,N\\}$ using the properties of modular exponentiation,  \n",
    "\n",
    "$$\n",
    "c^d \\mod N = (m^e)^d \\mod N = m\n",
    "$$  \n",
    "provided the original message $m$ is smaller than the modulus $N$. Eve has access to the public key $\\{e,N\\}$ , but this is no use to her in trying to decrypt the cyphertext, since $c^e \\mod N \\neq m.$\n",
    "\n",
    "In summary, the number theory and properties of modular exponentiation underlie the security of the RSA cryptosystem. As you have seen, the challenge of order ﬁnding can be related to the problem of factoring. While it is straightforward to multiple two numbers p and q to give the modulus N, the inverse problem is hard on a classical computer. And, if N is chosen sufﬁciently large, then a brute-force search to ﬁnd p and q is also inefﬁcient. Thus, the RSA cryptosystem is believed to be secure provided the prime numbers p and q, and the private exponent d are not made public. However, the encryption exponent e and modulus N can be made public. This type of cryptosystem, where the encryption key is public and anyone can encrypt a message, while the decryption key is private and only the receiver can decrypt the cyphertext, is the backbone of our modern day communication systems."
   ]
  },
  {
   "cell_type": "markdown",
   "metadata": {},
   "source": [
    "## 2. Example <a id='example'></a>"
   ]
  },
  {
   "cell_type": "markdown",
   "metadata": {},
   "source": [
    "Let’s consider a simple example. We’ll take the number $a=3$ and its exponents, modulo $10$ to calculate $f(x) = 3^x \\mod 10$, where $x$ is an integer. \n",
    "\n",
    "$$3^1 = 3 ~ \\mod 10 = 3$$\n",
    "$$3^2 = 9 ~ \\mod 10 = 9$$\n",
    "    $$3^3 = 27 ~\\mod 10 = 7$$\n",
    "    $$3^4 = 81 ~\\mod 10 = 1$$\n",
    "    $$3^5 = 243 ~\\mod 10 = 3$$\n",
    "    $$3^6 = 729 ~\\mod 10 = 9$$\n",
    "    $$3^7 = 2187 ~ \\mod 10 = 7$$\n",
    "    $$3^8 = 6561 ~\\mod 10 = 1$$   \n",
    "    \n",
    "We see that the numbers repeat with periodicity $r=4$. \n",
    "Let’s see how this plays out in our above example. The modulus is $N = 10$, which has prime factors $p = 2$, $q = 5$ so $2\\times 5 = 10$. Then $p−1 = 1$, and $q−1 = 4$. Thus, $(p−1)(q−1) = 1\\times 4 = 4$. And this evenly divides the period $r = 4$.  \n",
    "\n",
    "**Eve could try to find the period but there is no efﬁcient algorithm to do so with a classical computer. We will later see that if Eve has a quantum computer, she can find the period, with Shor's algorithm, in polynomial time.**"
   ]
  },
  {
   "cell_type": "markdown",
   "metadata": {},
   "source": [
    "## 3. Problems <a id='problems'></a>\n",
    "\n",
    "Alice: Create a function that generates key, $e$ and $N$. To do that here are the steps:  \n",
    " \n",
    "     - create a function, `is_prime(number)`, that checks primality of a (positive) number\n",
    "     - choose two numbers, $p,q$ randomly and check their primality with `is_prime(p)`, is_prime(q)\n",
    "     - multiply $p$ and $q$ to produce $N=pq$ to be used for modular exponentiation\n",
    "     - produce $r = k(p-1)(q-1)$, the period of the function $f(x) = a^x mod N$. \n",
    "         The fundamental period is the least common multiple of (p−1) and (q−1)."
   ]
  },
  {
   "cell_type": "markdown",
   "metadata": {},
   "source": [
    "Here import the modules you need in the code below"
   ]
  },
  {
   "cell_type": "code",
   "execution_count": null,
   "metadata": {},
   "outputs": [],
   "source": [
    "import random\n",
    "import math"
   ]
  },
  {
   "cell_type": "code",
   "execution_count": 1,
   "metadata": {},
   "outputs": [],
   "source": [
    "def is_prime(n):\n",
    "    \"\"\"\n",
    "    checks whether n is a prime number\n",
    "    \n",
    "    Arguments\n",
    "        n: a positive integer\n",
    "    returns True or False\n",
    "    \"\"\"\n",
    "    # YOUR CODE HERE"
   ]
  },
  {
   "cell_type": "code",
   "execution_count": 2,
   "metadata": {},
   "outputs": [],
   "source": [
    "def lcm(a, b):\n",
    "    \"\"\"\n",
    "    computes the least common multiple (lcm) of a and b\n",
    "    \n",
    "    Arguments\n",
    "        a: an integer\n",
    "        b: an integer\n",
    "    returns lcm of a and b\n",
    "    \n",
    "    \"\"\"\n",
    "    # YOUR CODE HERE"
   ]
  },
  {
   "cell_type": "markdown",
   "metadata": {},
   "source": [
    "Did you use `math.gcd()` in the implementation of the funciton lcm() above? Now try to implement your own function for GCD calculation using [Euclid's algorithm](https://en.wikipedia.org/wiki/Euclidean_algorithm)"
   ]
  },
  {
   "cell_type": "code",
   "execution_count": null,
   "metadata": {},
   "outputs": [],
   "source": [
    "def euclid_gcd(a, b):\n",
    "    \"\"\"\n",
    "    computes the GCD for a and b using Euclid's algorithm\n",
    "    \n",
    "    Arguments\n",
    "        a: an integer\n",
    "        b: an integer\n",
    "    returns gcd of a and b\n",
    "    \"\"\"\n",
    "    # YOUR CODE HERE"
   ]
  },
  {
   "cell_type": "code",
   "execution_count": null,
   "metadata": {},
   "outputs": [],
   "source": [
    "def modular_exp(base, degree, modulo):\n",
    "    \"\"\"\n",
    "    implements modular exponentiation base^degree mod modulo\n",
    "    \n",
    "    Arguments\n",
    "        base: the number to be exponentiated\n",
    "        degree: the degree of exponentiation\n",
    "        modulo: the modulo\n",
    "    returns the result of the modular exponentation\n",
    "    \"\"\"\n",
    "    # YOUR CODE HERE\n",
    "    \n",
    "\n",
    "    \n",
    "def inv_modular_exp(a, modulo):\n",
    "    \"\"\"\n",
    "    computes the modular multiplicative inverse of a mod modulo \n",
    "    \n",
    "    Arguments\n",
    "        a: an integer\n",
    "        modulo: modulo\n",
    "    returns inverse of a such that inva * a = 1 mod modulo. Returns -1 if inverse does not exist\n",
    "    \"\"\"   \n",
    "    # YOUR CODE HERE\n",
    "    # Hint: Use extended Euclidean algorithm"
   ]
  },
  {
   "cell_type": "code",
   "execution_count": 1,
   "metadata": {},
   "outputs": [],
   "source": [
    "def text_to_int(text):\n",
    "    \"\"\"\n",
    "    converts text to integer\n",
    "    \n",
    "    Arguments\n",
    "        text: a string\n",
    "    returns integer representation of text\n",
    "    \"\"\"\n",
    "    # YOUR CODE HERE\n",
    "    \n",
    "\n",
    "\n",
    "def int_to_text(n):\n",
    "    \"\"\"\n",
    "    converts integer to text\n",
    "    \n",
    "    Arguments\n",
    "        n: an integer\n",
    "    returns the textual representation of n\n",
    "    \"\"\"\n",
    "    # YOUR CODE HERE"
   ]
  },
  {
   "cell_type": "code",
   "execution_count": 2,
   "metadata": {},
   "outputs": [],
   "source": [
    "def random_prime(s, e):\n",
    "    \"\"\"\n",
    "    generates a random prime number in the given interval\n",
    "    \n",
    "    Arguments\n",
    "        s: an integer specifying the start of the interval\n",
    "        e: an integer specifying the end of the interval\n",
    "    returns the generated prime number\n",
    "    \"\"\"\n",
    "    # YOUR CODE HERE\n",
    "\n",
    "\n",
    "def generate_key():\n",
    "    \"\"\"\n",
    "    generates public keys {e,N} and private key d by following the protocol \n",
    "    described in the beginning of the notebook and summarized below\n",
    "    N = p*q (with p and q being random prime numbers)\n",
    "    r = lcm(p - 1, q - 1)\n",
    "    \n",
    "    e = random.randint(3, N-1)\n",
    "    \n",
    "    create decryption key d = e^(-1) mod r\n",
    "    d = inv_modular_exp(e, r)\n",
    "    \n",
    "    return e, N, d\n",
    "    \"\"\"\n",
    "    # YOUR CODE HERE"
   ]
  },
  {
   "cell_type": "markdown",
   "metadata": {},
   "source": [
    "Bob: encrypts his message with the public keys provided by Alice and sends back to Alice"
   ]
  },
  {
   "cell_type": "code",
   "execution_count": 3,
   "metadata": {},
   "outputs": [],
   "source": [
    "def encrypt(text, e, N):\n",
    "    \n",
    "    m = text_to_int(text)\n",
    "    c = modular_exp(m, e, N)\n",
    "    \n",
    "    return c"
   ]
  },
  {
   "cell_type": "markdown",
   "metadata": {},
   "source": [
    "Alice: receives the encrypted cyphertext and decodes it"
   ]
  },
  {
   "cell_type": "code",
   "execution_count": 4,
   "metadata": {},
   "outputs": [],
   "source": [
    "def decrypt(c, d, N):\n",
    "    \n",
    "    m = modular_exp(c, d, N)\n",
    "    text = int_to_text(m)\n",
    "    \n",
    "    return text"
   ]
  },
  {
   "cell_type": "code",
   "execution_count": null,
   "metadata": {},
   "outputs": [],
   "source": [
    "e, N, d = generate_key()\n",
    "text = 'hi'\n",
    "print(\"message encoded and sent by Alice: {}\".format(text))\n",
    "c = encrypt(text, e, N)\n",
    "m = decrypt(c, d, N)\n",
    "print(\"message received and decoded by Bob: {}\".format(m))"
   ]
  }
 ],
 "metadata": {
  "kernelspec": {
   "display_name": "Python 3",
   "language": "python",
   "name": "python3"
  },
  "language_info": {
   "codemirror_mode": {
    "name": "ipython",
    "version": 3
   },
   "file_extension": ".py",
   "mimetype": "text/x-python",
   "name": "python",
   "nbconvert_exporter": "python",
   "pygments_lexer": "ipython3",
   "version": "3.7.4"
  }
 },
 "nbformat": 4,
 "nbformat_minor": 4
}
