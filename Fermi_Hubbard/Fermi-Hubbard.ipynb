{
 "cells": [
  {
   "cell_type": "markdown",
   "metadata": {},
   "source": [
    "# <center>Quantum Advantage For Hubbard Model On a Near-Term QuantumComputer</center>\n",
    "Ground state calculations using classical methods require the storage of three vectors of the size of the number of states. The number of states scales exponentially with the size of the system, which limits the number of sites in the lattice to about $20\\times 20$ on currently available classical hardware. For low temperatures, convergence problems appear that lead to an exponential growth of computational effort with decreasing temperature due to the so-called fermion sign problem. \n",
    "\n",
    "For the Hubbard-type problems we use quantum simulation to map the system Hamiltonian on qubits system (quantum computer) and run quantum algorithms on them to demonstrate trend of advantage that quantum computers promise. The advantage is expected to be exponential as a quantum computer is able to store exponential amount of information on polynomial number of qubits.\n",
    "\n",
    "be  exponential  as  a  quantum  computer  is  able  to  store  exponentialamount of information on polynomial number of qubits."
   ]
  },
  {
   "cell_type": "markdown",
   "metadata": {},
   "source": [
    "### Hubbard model\n",
    "The Hubbard model [1] is an approximate model used, especially in solid-state physics, to describe the transition between conducting and insulating systems. The Hubbard model is the simplest model of interacting particles in a lattice, with only two terms in the Hamiltonian: a kinetic term allowing for tunneling (\"hopping\") of particles between sites of the lattice and a potential term consisting of an on-site interaction. The Hubbard model is also used as a model for high-temperature superconductivity as well as to describe the behavior of ultracold atoms trapped in optical lattices. For electrons in a solid, the Hubbard model can be considered as an improvement on the tight-binding model, which includes only the hopping term. For strong interactions, it can give qualitatively different behavior from the tight-binding model, and correctly predicts the existence of so-called Mott insulators, which are prevented from becoming conducting by the strong repulsion between the particles.\n",
    "\n",
    "The fact that the Hubbard model has not been solved analytically in arbitrary dimensions has led to intense research into numerical methods for these strongly correlated electron systems. One major goal of this research is to determine the low-temperature phase diagram of this model, particularly in two-dimensions.  \n",
    "\n",
    "\n",
    "It is known that quantum many-body problems require exponential time, in the size of the problem,\n",
    "to solve on a classical computer without approximations. As Feynman envisioned, one could use a quantum computer to simulate quantum systems to overcome such difficulties [2,3].\n",
    "With quantum computers one can prepare initial states of the system under study as well as have\n",
    "control over the Hamiltonians that governs the time evolutions of those states.\n",
    "Recent advances in quantum-computing hardware brought us quite close to Feynman’s vision.\n",
    "Developing optimized simulation algorithms is of highest importance as current near-term quantum\n",
    "hardwares have limitations in scaling, and errors in state preparation, qubit-qubit couplings, gate\n",
    "sequences, and readout. Significant progress has been made in this direction [4-7].\n",
    "Several quantum algorithms exist to simulate correlated fermions on linear and 2D qubit arrays with\n",
    "nearest-neighbor couplings which are typical for superconducting transmon qubits.\n",
    "We will use the Fermi-Hubbard model [1] to demonstrate these algorithms. The Hubbard model\n",
    "approximates the long-range Coulomb interaction of electrons in a crystal with a local on-site\n",
    "interaction. This locality reduces the resources required for simulating the model and makes it a\n",
    "prime candidate for the early applications of quantum simulations [8]. \n",
    "For a lattice with only one type of site and edges from each site only to itself and its neighbors, the Hamiltonian for the spinful model has the form\n",
    "\n",
    "\\begin{eqnarray}\n",
    "        H &=& - \\sum_{a < b} t_{a, b}^{(\\mathrm{onsite})}\n",
    "               \\sum_{i} \\sum_{\\sigma}\n",
    "                     (a^\\dagger_{i, a, \\sigma} a_{i, b, \\sigma} +\n",
    "                      a^\\dagger_{i, b, \\sigma} a_{i, a, \\sigma})\\nonumber\n",
    "            \\\\&-& \\sum_{a} t_{a, a}^{(\\mathrm{nghbr})}\n",
    "               \\sum_{\\{i, j\\}} \\sum_{\\sigma}\n",
    "                     (a^\\dagger_{i, a, \\sigma} a_{j, a, \\sigma} +\n",
    "                      a^\\dagger_{j, a, \\sigma} a_{i, a, \\sigma})\\nonumber\n",
    "            \\\\ &-& \\sum_{a < b} t_{a, b}^{(\\mathrm{nghbr})}\n",
    "               \\sum_{(i, j)} \\sum_{\\sigma}\n",
    "                     (a^\\dagger_{i, a, \\sigma} a_{j, b, \\sigma} +\n",
    "                      a^\\dagger_{j, b, \\sigma} a_{i, a, \\sigma})\\nonumber\n",
    "            + \\sum_{a < b} U_{a, b}^{(\\mathrm{onsite}, +)}\n",
    "               \\sum_{i} \\sum_{\\sigma}\n",
    "                     n_{i, a, \\sigma} n_{i, b, \\sigma}\\nonumber\n",
    "            \\\\&+& \\sum_{a} U_{a, a}^{(\\mathrm{nghbr}, +)}\n",
    "               \\sum_{\\{i, j\\}} \\sum_{\\sigma}\n",
    "                     n_{i, a, \\sigma} n_{j, a, \\sigma}\n",
    "             + \\sum_{a < b} U_{a, b}^{(\\mathrm{nghbr}, +)}\n",
    "               \\sum_{(i, j)} \\sum_{\\sigma}\n",
    "                     n_{i, a, \\sigma} n_{j, b, \\sigma}\\nonumber\n",
    "            \\\\&+& \\sum_{a \\leq b} U_{a, b}^{(\\mathrm{onsite}, -)}\n",
    "               \\sum_{i} \\sum_{\\sigma}\n",
    "                     n_{i, a, \\sigma} n_{i, b, -\\sigma}\\nonumber\n",
    "            + \n",
    "            \\sum_{a} U_{a, a}^{(\\mathrm{nghbr}, -)}\n",
    "               \\sum_{\\{ i, j \\}} \\sum_{\\sigma}\n",
    "                     n_{i, a, \\sigma} n_{j, a, -\\sigma}\n",
    "            \\\\&+& \\sum_{a < b} U_{a, b}^{(\\mathrm{nghbr}, -)}\n",
    "               \\sum_{( i, j )} \\sum_{\\sigma}\n",
    "                     n_{i, a, \\sigma} n_{j, b, -\\sigma}\\nonumber\n",
    "            \\\\&-& \\sum_{a} \\mu_a\n",
    "               \\sum_i \\sum_{\\sigma} n_{i, a, \\sigma}\n",
    "            - h \\sum_{i} \\sum_{a}\n",
    "                \\left(n_{i, a, \\uparrow} - n_{i, a, \\downarrow}\\right) \\qquad (1)\n",
    "        \\end{eqnarray}\n",
    "\n",
    "The tunneling parameter corresponds to the terms\n",
    "$$\n",
    "t \\sum_{(i, j) \\in E^{(\\mathrm{edge type})}} \n",
    "            \\sum_{\\sigma}\n",
    "            \\left(a_{i, a, \\sigma}^{\\dagger} a_{j, b, \\sigma} \n",
    "            + a_{j, b, \\sigma}^{\\dagger} a_{i, a, \\sigma}\\right)\n",
    "$$\n",
    "One can also construct the Hamiltonian for the spinless model, which հas the form\n",
    "\n",
    "\n",
    "\\begin{eqnarray}\n",
    "            H = &-& \\sum_{a < b} t_{a, b}^{(\\mathrm{onsite})}\n",
    "               \\sum_{i}\n",
    "                     (a^\\dagger_{i, a} a_{i, b} +\n",
    "                      a^\\dagger_{i, b} a\n",
    "                      a_{i, a}) -\n",
    "             \\sum_{a} t_{a, a}^{(\\mathrm{nghbr})}\n",
    "               \\sum_{\\{i, j\\}}\n",
    "                     (a^\\dagger_{i, a} a_{j, a} +\n",
    "                      a^\\dagger_{j, a} a_{i, a})\n",
    "             \\\\&-& \n",
    "             \\sum_{a < b} t_{a, b}^{(\\mathrm{nghbr})}\n",
    "               \\sum_{(i, j)}\n",
    "                     (a^\\dagger_{i, a} a_{j, b} +\n",
    "                      a^\\dagger_{j, b} a_{i, a})\n",
    "            +\n",
    "             \\sum_{a < b} U_{a, b}^{(\\mathrm{onsite})}\n",
    "               \\sum_{i}\n",
    "                     n_{i, a} n_{i, b}\n",
    "            \\\\\n",
    "            &+& \\sum_{a} U_{a, a}^{(\\mathrm{nghbr})}\n",
    "               \\sum_{\\{i, j\\}}\n",
    "                     n_{i, a} n_{j, a}\n",
    "             + \\sum_{a < b} U_{a, b}^{(\\mathrm{nghbr})}\n",
    "               \\sum_{(i, j)}\n",
    "                     n_{i, a} n_{j, b}\\nonumber\n",
    "            - \\sum_{a} \\mu_a\n",
    "               \\sum_i n_{i, a}\n",
    "\\end{eqnarray}\n",
    "\n",
    "The tunneling parameter corresponds to the terms\n",
    "$$\n",
    "-t \\sum_{(i, j) \\in E^{(\\mathrm{edge type})}} \n",
    "            \\left(a_{i, a}^{\\dagger} a_{j, b} \n",
    "            + a_{j, b}^{\\dagger} a_{i, a}\\right)$$"
   ]
  },
  {
   "cell_type": "markdown",
   "metadata": {},
   "source": [
    "### Fermi-Hubbard Model\n",
    "\n",
    "The Fermi-Hubbard Hamiltonian for the spinful model has the form \n",
    "\n",
    "\\begin{eqnarray}\n",
    "        H = &-& t \\sum_{\\langle i,j \\rangle} \\sum_{\\sigma}\n",
    "                     (a^\\dagger_{i, \\sigma} a_{j, \\sigma} +\n",
    "                      a^\\dagger_{j, \\sigma} a_{i, \\sigma})\n",
    "             + U \\sum_{i} a^\\dagger_{i, \\uparrow} a_{i, \\uparrow}\n",
    "                         a^\\dagger_{i, \\downarrow} a_{i, \\downarrow}\\nonumber\n",
    "            \\\\\n",
    "            &-& \\mu \\sum_i \\sum_{\\sigma} a^\\dagger_{i, \\sigma} a_{i, \\sigma}\n",
    "             - h \\sum_i (a^\\dagger_{i, \\uparrow} a_{i, \\uparrow} -\n",
    "                       a^\\dagger_{i, \\downarrow} a_{i, \\downarrow})\n",
    "\\end{eqnarray}\n",
    "\n",
    "The single-band Fermi-Hubbard model, which is a radical simplification of the full electronic structure Hamiltonian, is described by the following Hamiltonian\n",
    "\n",
    "\\begin{eqnarray}\\label{1}\n",
    "    H_{FH} = &-&\\sum_{\\langle j,k\\rangle,\\sigma}\n",
    "    t_{j,k}(a_{j,\\sigma}^\\dagger a_{k,\\sigma}+ \\mathrm{h.c.}) + U \\sum_j n_{j,\\uparrow}n_{j,\\downarrow}\\nonumber\\\\&+&\n",
    "    \\sum_{j,\\sigma}(\\varepsilon_j-\\mu)n_j-\n",
    "    \\sum_j h_j(n_{j,\\uparrow} -n_{j,\\downarrow})\n",
    "\\end{eqnarray}\n",
    "where $a_{j,\\sigma}^\\dagger (a_{j,\\sigma})$\n",
    "is the creation (annihilation) operator for the $j$th site with spin $\\sigma$\n",
    "and $n_{j,\\sigma} = a_{j,\\sigma}^\\dagger a_{j,\\sigma}$ is the fermion occupation number operator and $n_j = \\sum_\\sigma n_{j,\\sigma}$. From all the\n",
    "electronic bands, this model keeps only a single orbital close to the Fermi energy and reduces the\n",
    "long-range Coulomb repulsion to just the local repulsion $U$ within this orbital. The first term on the right side of Eq. (1) describes fermions hopping between sites, the second term describes the on-site interactions, and the remaining two terms describe a local potential and a magnetic field. One can consider a translationally invariant model and then drop the indices in $t_{j,k}$\n",
    "and $\\varepsilon_j$ since all sites are\n",
    "equivalent."
   ]
  },
  {
   "cell_type": "markdown",
   "metadata": {},
   "source": [
    "### Bose-Hubbard model\n",
    "The Hamiltonian for the Bose-Hubbard model has the form \n",
    "\n",
    "$$H = - t \\sum_{\\langle i, j \\rangle} (b_i^\\dagger b_j + b_j^\\dagger b_i)\n",
    "         + V \\sum_{\\langle i, j \\rangle} b_i^\\dagger b_i b_j^\\dagger b_j\n",
    "         + \\frac{U}{2} \\sum_i b_i^\\dagger b_i (b_i^\\dagger b_i - 1)\n",
    "         - \\mu \\sum_i b_i^\\dagger b_i.\n",
    "$$"
   ]
  },
  {
   "cell_type": "markdown",
   "metadata": {},
   "source": [
    "### Complexity\n",
    "\n",
    "The computational complexity of the Hubbard model is reduced compared to the full electronic\n",
    "structure problem, since only a single orbital is used per unit cell instead of dozens needed for the\n",
    "full problem, and the number of terms is linear in $N$ instead of scaling with the fourth power $N^4$.\n",
    "On a lattice of $20\\times 20$ unit cells this means a reduction of the total number of terms from about $10^{12}$ to $10^{3}$, which makes such a simulation feasible on a quantum computer.\n",
    "\n",
    "The one-dimensional (1D) Hubbard model was solved by \\cite{Lieb}, however, it remains an open question for a full theoretical analysis of the 2D Hubbard model which requires going beyond the validity of\n",
    "mean-field and perturbation theory arguments.\n",
    "%The phase diagram of the 2D Fermi-Hubbard model is depicted in the picture below. \n",
    "%The critical $T_c$ temperature depends on the value of hole doping, AF stands for antiferromagnet. \n",
    "To characterize the phases one can compute key quantities such as the quasiparticle energy gap and phase stiffness (superfluid density) in a superconducting phase. To answer these questions, one needs to determine the ground-state wave function for a range of interaction parameters and densities and then measure\n",
    "ground-state correlation functions.\n",
    "\n",
    "At half-filling, which is the case of one electron per unit cell, the Hubbard model gives a simple account of Mott insulating behavior. For $U=0$, the ground state is metallic. There is a single band\n",
    "and it is half filled, the Fermi surface is $|k_x \\pm k_y| = \\pi/a$, where $a$ is the lattice constant. However,\n",
    "for $U>0$, the ground state is insulating. The physics is different in the $U \\ll t$\n",
    "and $U \\gg t$ limits.\n",
    "For $U\\ll t$, the system lowers its energy by developing antiferromagnetic order, as a result of which the unit cell doubles in size. If there are two electrons per unit cell the system is effectively a band\n",
    "insulator. If the Hubbard model captures the physics of the cuprate superconductors, then\n",
    "superconducting order with $d_{x_2-y_2}$\n",
    "pairing symmetry must occur for a density of $1-x$ electrons per unit cell, with in the range $0.05 < x < 0.25$. If the Hubbard model is not superconducting in\n",
    "this doping range, then superconductivity in the cuprates must be due to effects that are missing in\n",
    "the Hubbard model, such as longer-ranged interactions, longer-ranged hopping, interlayer coupling,\n",
    "and phonons.\n"
   ]
  },
  {
   "cell_type": "markdown",
   "metadata": {},
   "source": [
    "\n",
    "Exact numerical diagonalization of Hubbard model is limited to about 20 sites (40 logical qubits)\n",
    "[10, 11], which is too small for a finite-size scaling analysis. Classical approximate methods such as\n",
    "quantum Monte Carlo simulations or many-body theory expansions have been used to simulate\n",
    "systems with hundreds of sites, which allows for extrapolation to the thermodynamic limit. Monte\n",
    "Carlo methods suffer from sign problems which prevent them from simulating systems at very low\n",
    "temperatures [13]. Density matrix renormalization group (DMRG) [14] applied to the 2D Hubbard\n",
    "model requires mapping to an effective 1D problem. Other numerical methods to determine the\n",
    "phase diagrams of the Hubbard model include the dynamical cluster approximation [15, 16] and the\n",
    "density matrix embedding theory [10, 17]. These methods can asymptotically approach the exact\n",
    "solution with increasingly larger clusters which requires an exponential amount of computing resources on a classical computer.  \n",
    "\n",
    "On a quantum computer, simulating the Fermi-Hubbard model, one maps the fermionic operators to qubit operators. In the second quantization picture, a particular spin orbital being unoccupied(occupied) is represented by the qubit state $|0\\rangle (|1\\rangle)$. To account for the parities of qubits\n",
    "corresponding to other spin orbitals, e.g., by using the Jordan-Wigner transformation (JWT) [18, 27], fermionic anticommutation relations must be satisfied.\n",
    "The last two terms of Eq. (1) can be implemented using single qubit operators, the on-site\n",
    "interaction term can be implemented with two-qubit interactions. Because of the nonlocal parity\n",
    "operators in the JWT, the hopping terms cannot be implemented in more than one spatial\n",
    "dimension. It is of practical importance to reduce the depth of the quantum circuits for these terms\n",
    "with only local qubit interactions [7]. Several quantum algorithms to simulate fermionic systems on\n",
    "near-term devices with nearest-neighbor qubit-qubit couplings has been reported recently [20]. This\n",
    "opens a possibility to simulate many body physics, including the Fermi-Hubbard model, in the noisy\n",
    "intermediate-scale quantum era [21].\n"
   ]
  },
  {
   "cell_type": "markdown",
   "metadata": {},
   "source": [
    "### Mapping to code\n",
    "\n",
    "Let's build the code structure and show the approach, where we describe the transition between conducting and insulating systems.  \n",
    "We now give the solving approach of a restricted case of Fermi-Hubbard model.\n",
    "\n",
    "\n",
    "By exploiting the open source OpenFermion library [22] one can prepare an arbitrary Slater determinant and map fermions to qubits. First, we describe the interface between OpenFermion and Rigetti’s quantum simulation environment called Forest. The interface provides a method of transforming data generated in OpenFermion to a similar representation\n",
    "in pyQuil [24]. For this example we use OpenFermion to build a four-site single-band periodic boundary Hubbard model and apply first-order Trotter time-evolution to a starting state of two localized electrons of opposite spin.\n",
    "The Forest-OpenFermion plugin provides the routines to inter-convert between the OpenFermion `QubitOperator` data structure and the synonymous data structure in pyQuil called a `PauliSum`."
   ]
  },
  {
   "cell_type": "markdown",
   "metadata": {},
   "source": [
    "The `FermionOperator` in OpenFermion can be used to translate the mathematical expression of the Hamiltonian directly to executable code. While we show how this model can be built in one line using the OpenFermion hamiltonians module, here we take the opportunity to demonstrate the ease of creating such models for study that could be\n",
    "easily modified as desired. Given the Hamiltonian of the Hubbard system  \n",
    "\n",
    "\\begin{equation}\n",
    "    H_{FH} = - \\sum_{\\langle j,k\\rangle,\\sigma}\n",
    "    t_{j,k}(a_{j,\\sigma}^\\dagger a_{k,\\sigma}+ \\mathrm{h.c.}) + 4 \\sum_j n_{j,\\uparrow}n_{j,\\downarrow},\n",
    "\\end{equation}  \n",
    "\n",
    "where we first consider the problem without local potential and magnetic field. We also used $U=4$ for numerical procedures. The example code to build this Hamiltonian is as follows\n",
    "\n",
    "\n",
    "```python\n",
    "from openfermion.transforms import jordan_wigner \n",
    "from openfermion.ops import FermionOperator\n",
    "from openfermion.ops import hermitian_conjugated\n",
    "\n",
    "hubbard_hamiltonian = FermionOperator()\n",
    "spatial_orbitals = 4\n",
    "for i in range(spatial_orbitals):\n",
    "    electron_hop_alpha = FermionOperator(((2*i, 1),\n",
    "            (2*((i+1) % spatialorbitals), 0)))\n",
    "    electron_hop_beta = FermionOperator(((2*i+1, 1),\n",
    "            ((2*((i+1) % spatial_orbitals) + 1 ),0)))\n",
    "    hubbard_hamiltonian +=-1*(electron_hop_alpha +\n",
    "            hermitian_conjugated(electron_hop_alpha))\n",
    "    hubbard_hamiltonian += -1*(electron_hop_beta +\n",
    "            hermitian_conjugated(electron_hop_beta))\n",
    "    hubbard_hamiltonian += FermionOperator (((2*i, 1), \n",
    "            (2*i, 0), (2*i+1, 1), (2*i+1, 0)), 4.0)\n",
    "```\n",
    "\n",
    "Here, we have implicitly used even indexes [0, 2, 4, 6] as $\\alpha$ spin-orbitals and odd indexes [1, 3, 5, 7] as $\\beta$\n",
    "spin-orbitals.  \n",
    "\n",
    "The same model can be built using the OpenFermion Hubbard model builder routine in the hamiltonians module with a single function call:\n",
    "\n",
    "```python\n",
    "from openfermion.hamiltoniansi mport fermi_hubbard\n",
    "\n",
    "x_dim = 4\n",
    "y_dim = 1\n",
    "periodic = True\n",
    "chemical_potential = 0\n",
    "tunneling = 1.0\n",
    "coulomb = 4.0\n",
    "\n",
    "of_hubbard_hamiltonian = fermi_hubbard(x_dim, y_dim, tunneling,\n",
    "            coulomb, chemical_potential=None, spinless=False)\n",
    "```\n",
    "The above variables are self-explanatory.\n",
    "\n",
    "Using the Jordan-Wigner transform functionality of OpenFermion, the Hubbard Hamiltonian can be transformed to a sum of QubitOperators which are then transformed to pyQuil PauliSum objects using routines in the Forest-OpenFermion plugin imported earlier.\n",
    "\n",
    "```python\n",
    "hubbard_term_generator = jordan_wigner(hubbard_hamiltonian)\n",
    "pyquil_hubbard_generator = qubitop_to_pyquilpauli(hubbard_term_generator)\n",
    "```\n",
    "\n",
    "Now, with the data successfully transformed to a pyQuil representation, one can use them to construct quantum circuits on rigetti's simulator or hardware and make experiments."
   ]
  },
  {
   "cell_type": "markdown",
   "metadata": {},
   "source": [
    "Often, one would like to obtain a sparse matrix representation of an operator which can be analyzed numerically. There is code in both openfermion.transforms and openfermion.utils which facilitates this. The function get\\_sparse\\_operator converts either a FermionOperator, a QubitOperator or other more advanced classes such as InteractionOperator to a scipy.sparse.csc matrix. There are numerous functions in openfermion.utils which one can call on the sparse operators such as \"get\\_gap\", \"get\\_hartree\\_fock\\_state\", \"get\\_ground\\_state\", etc. We show this off by computing the ground state energy of the Hubbard model. To do that, we use code from the openfermion.hamiltonians module which constructs lattice models of fermions such as Hubbard models.\n",
    "\n",
    "```python\n",
    "from openfermion.hamiltonians import fermi_hubbard\n",
    "from openfermion.transforms import get_sparse_operator \n",
    "from openfermion.transforms import jordan_wigner\n",
    "from openfermion.utils import get_ground_state\n",
    "\n",
    "# Set model.\n",
    "x_dim = 2\n",
    "y_dim = 2\n",
    "tunneling = 2.\n",
    "coulomb = 1.\n",
    "magnetic_field = 0.5\n",
    "chemical_potential = 0.25\n",
    "periodic = 1\n",
    "spinless = 1\n",
    "\n",
    "# Get fermion operator.\n",
    "hubbard_model = fermi_hubbard(\n",
    "    x_dimension, y_dimension, tunneling, coulomb, \n",
    "    chemical_potential, magnetic_field, periodic, spinless)\n",
    "\n",
    "# Get qubit operator under Jordan-Wigner.\n",
    "jw_hamiltonian = jordan_wigner(hubbard_model)\n",
    "jw_hamiltonian.compress()\n",
    "\n",
    "# Get scipy.sparse.csc representation.\n",
    "sparse_operator = get_sparse_operator(hubbard_model)\n",
    "\n",
    "print('\\nEnergy of the model is {}'.format(\n",
    "    get_ground_state(sparse_operator)[0]))\n",
    "```\n"
   ]
  },
  {
   "cell_type": "markdown",
   "metadata": {},
   "source": [
    "### Measuring an observable\n",
    "\n",
    "To measure observables or correlation functions on a quantum computer we use Paili group expansion of the related operator. \n",
    "\\begin{equation}\n",
    "    O = \\sum_{i=1}^n \\alpha_i P_i,\n",
    "\\end{equation}\n",
    "where $n$ is the basis dimension needed for expansion and $P_i \\in \\{I, \\sigma_x, \\sigma_y, \\sigma_z\\}^{\\otimes N}$ is a tensor product of single-qubit Pauli operators on $N$ qubits.\n",
    "This is needed as quantum circuits are natural for sampling in Pauli basis.\n",
    "Then the expectation value of the observable $O$ is \n",
    "\\begin{equation}\n",
    "    \\langle O\\rangle = \\sum_{i=1}^n \\alpha_i \\langle P_i\\rangle,\n",
    "\\end{equation}\n",
    "\n",
    "For constructing Slater determinants to approximate the ground state, we use the variational quantum eigensolver algorithm (VQE), where the ansatz state is prepared via a parametrized quantum circuit and optimized for minimum energy. The advantage of VQE over classical simulation methods is that it can prepare trial states that are not amenable to efficient classical numerics. We have described the VQE algorithm in [[26]](https://github.com/gate42qc/Tutorials/blob/master/VQE/VQEforhydrogenmoleculeenergy.ipynb).\n"
   ]
  },
  {
   "cell_type": "markdown",
   "metadata": {},
   "source": [
    "So let's prepare the necessary packages and start modeling the problem"
   ]
  },
  {
   "cell_type": "code",
   "execution_count": 1,
   "metadata": {},
   "outputs": [],
   "source": [
    "from openfermion.hamiltonians import fermi_hubbard\n",
    "from openfermion.transforms import get_fermion_operator, jordan_wigner\n",
    "from openfermion.utils import get_ground_state\n",
    "from openfermion.ops import QubitOperator \n",
    "from forestopenfermion import pyquilpauli_to_qubitop \n",
    "from forestopenfermion import qubitop_to_pyquilpauli\n",
    "\n",
    "import numpy as np\n",
    "import random\n",
    "import matplotlib.pyplot as plt\n",
    "%matplotlib inline\n",
    "\n",
    "from pyquil.quil import Program\n",
    "from pyquil.gates import *\n",
    "from pyquil.paulis import exponentiate\n",
    "from pyquil.quil import Program\n",
    "import pyquil.api as api\n",
    "# we also import a function from module random_circuit we created\n",
    "from random_circuit import get_ansatz_circuit_generator"
   ]
  },
  {
   "cell_type": "code",
   "execution_count": 36,
   "metadata": {},
   "outputs": [],
   "source": [
    "# Setting the model\n",
    "x_dimension = 3\n",
    "y_dimension = 2\n",
    "tunneling = 2.\n",
    "coulomb = 1.0\n",
    "magnetic_field = 0.5\n",
    "chemical_potential = 0.25\n",
    "periodic = 1\n",
    "spinless = 0\n",
    "\n",
    "# create range of parameters for scan to model different material specifics\n",
    "# change to desired values\n",
    "tunnelings = np.arange(0.5, 1.5, 0.02)\n",
    "coulombs = np.arange(0, 1.5, 0.05)\n",
    "magnetic_fields = np.arange(0.5, 20, 2)\n",
    "chemical_potentials = np.arange(-500., 500, 50)\n",
    "\n",
    "# Get fermion operators\n",
    "hubbard_tunnels = [fermi_hubbard(x_dimension, y_dimension, tunneling, coulomb, \n",
    "                                 chemical_potential, magnetic_field, periodic, spinless)\n",
    "                  for tunneling in tunnelings]\n",
    "\n",
    "hubbard_coulombs = [fermi_hubbard(x_dimension, y_dimension, tunneling, coul, \n",
    "                                  chemical_potential, magnetic_field, periodic, spinless)\n",
    "                  for coul in coulombs]\n",
    "\n",
    "hubbard_magn = [fermi_hubbard(x_dimension, y_dimension, tunneling, coulomb, \n",
    "                              chemical_potential, magnetic_field, periodic, spinless)\n",
    "                  for magn in magnetic_fields]\n",
    "\n",
    "hubbard_chem = [fermi_hubbard(x_dimension, y_dimension, tunneling, coulomb, \n",
    "                              chemical_potential, magnetic_field, periodic, spinless)\n",
    "                  for chem in chemical_potentials]"
   ]
  },
  {
   "cell_type": "code",
   "execution_count": 37,
   "metadata": {},
   "outputs": [
    {
     "data": {
      "text/plain": [
       "array([0.  , 0.05, 0.1 , 0.15, 0.2 , 0.25, 0.3 , 0.35, 0.4 , 0.45, 0.5 ,\n",
       "       0.55, 0.6 , 0.65, 0.7 , 0.75, 0.8 , 0.85, 0.9 , 0.95, 1.  , 1.05,\n",
       "       1.1 , 1.15, 1.2 , 1.25, 1.3 , 1.35, 1.4 , 1.45])"
      ]
     },
     "execution_count": 37,
     "metadata": {},
     "output_type": "execute_result"
    }
   ],
   "source": [
    "coulombs"
   ]
  },
  {
   "cell_type": "code",
   "execution_count": 38,
   "metadata": {},
   "outputs": [],
   "source": [
    "# Get qubit operator Hubbard hamiltonian under Jordan-Wigner transformation.\n",
    "\n",
    "jw_ham_tunnels = [jordan_wigner(hubbard_model) for hubbard_model in hubbard_tunnels]\n",
    "jw_ham_coulombs = [jordan_wigner(hubbard_model) for hubbard_model in hubbard_coulombs]\n",
    "jw_ham_magn = [jordan_wigner(hubbard_model) for hubbard_model in hubbard_magn]\n",
    "jw_ham_chem = [jordan_wigner(hubbard_model) for hubbard_model in hubbard_chem]\n",
    "\n",
    "#pyquil_hubbard_generator = qubitop_to_pyquilpauli(jw_hamiltonian)\n",
    "jw_pyquil_hubbard_tunnels = [qubitop_to_pyquilpauli(jw_hamiltonian) for jw_hamiltonian in jw_ham_tunnels]\n",
    "jw_pyquil_hubbard_coulombs = [qubitop_to_pyquilpauli(jw_hamiltonian) for jw_hamiltonian in jw_ham_coulombs]\n",
    "jw_pyquil_hubbard_magn = [qubitop_to_pyquilpauli(jw_hamiltonian) for jw_hamiltonian in jw_ham_magn]\n",
    "jw_pyquil_hubbard_chem = [qubitop_to_pyquilpauli(jw_hamiltonian) for jw_hamiltonian in jw_ham_chem]"
   ]
  },
  {
   "cell_type": "markdown",
   "metadata": {},
   "source": [
    "### Ground state preparation using VQE\n",
    "For usage of VQE see [our tutorial](https://github.com/gate42qc/Tutorials/blob/master/VQE/VQE_for_hydrogen_molecule_energy.ipynb)"
   ]
  },
  {
   "cell_type": "code",
   "execution_count": 39,
   "metadata": {},
   "outputs": [],
   "source": [
    "# depth of the ansatz circuit\n",
    "d = 1 \n",
    "# number of qubits are defined by lattice dimensions\n",
    "qubits = list(range(2* x_dimension * y_dimension))\n",
    "number_of_qubits = len(qubits)"
   ]
  },
  {
   "cell_type": "code",
   "execution_count": 40,
   "metadata": {},
   "outputs": [],
   "source": [
    "\n",
    "variational_state_evolve = get_ansatz_circuit_generator(qubits, d)\n"
   ]
  },
  {
   "cell_type": "code",
   "execution_count": 41,
   "metadata": {},
   "outputs": [],
   "source": [
    "thetas = np.random.rand(number_of_qubits*(d+1))*np.pi\n"
   ]
  },
  {
   "cell_type": "code",
   "execution_count": 42,
   "metadata": {},
   "outputs": [
    {
     "name": "stdout",
     "output_type": "stream",
     "text": [
      "(-0.26+0j)*Y0*Z1*Y2 + (-0.26+0j)*X0*Z1*X2 + (-0.26+0j)*Y1*Z2*Y3 + (-0.26+0j)*X1*Z2*X3 + (-0.26+0j)*Y0*Z1*Z2*Z3*Z4*Z5*Y6 + (-0.26+0j)*X0*Z1*Z2*Z3*Z4*Z5*X6 + (-0.26+0j)*Y1*Z2*Z3*Z4*Z5*Z6*Y7 + (-0.26+0j)*X1*Z2*Z3*Z4*Z5*Z6*X7 + (-0.375+0j)*Z1 + (0.125+0j)*Z0 + (0.25+0j)*Z0*Z1 + (-0.26+0j)*Y2*Z3*Y4 + (-0.26+0j)*X2*Z3*X4 + (-0.26+0j)*Y3*Z4*Y5 + (-0.26+0j)*X3*Z4*X5 + (-0.26+0j)*Y2*Z3*Z4*Z5*Z6*Z7*Y8 + (-0.26+0j)*X2*Z3*Z4*Z5*Z6*Z7*X8 + (-0.26+0j)*Y3*Z4*Z5*Z6*Z7*Z8*Y9 + (-0.26+0j)*X3*Z4*Z5*Z6*Z7*Z8*X9 + (-0.375+0j)*Z3 + (0.125+0j)*Z2 + (0.25+0j)*Z2*Z3 + (-0.26+0j)*X0*Z1*Z2*Z3*X4 + (-0.26+0j)*Y0*Z1*Z2*Z3*Y4 + (-0.26+0j)*X1*Z2*Z3*Z4*X5 + (-0.26+0j)*Y1*Z2*Z3*Z4*Y5 + (-0.26+0j)*Y4*Z5*Z6*Z7*Z8*Z9*Y10 + (-0.26+0j)*X4*Z5*Z6*Z7*Z8*Z9*X10 + (-0.26+0j)*Y5*Z6*Z7*Z8*Z9*Z10*Y11 + (-0.26+0j)*X5*Z6*Z7*Z8*Z9*Z10*X11 + (-0.375+0j)*Z5 + (0.125+0j)*Z4 + (0.25+0j)*Z4*Z5 + (-0.26+0j)*Y6*Z7*Y8 + (-0.26+0j)*X6*Z7*X8 + (-0.26+0j)*Y7*Z8*Y9 + (-0.26+0j)*X7*Z8*X9 + (-0.375+0j)*Z7 + (0.125+0j)*Z6 + (0.25+0j)*Z6*Z7 + (-0.26+0j)*Y8*Z9*Y10 + (-0.26+0j)*X8*Z9*X10 + (-0.26+0j)*Y9*Z10*Y11 + (-0.26+0j)*X9*Z10*X11 + (-0.375+0j)*Z9 + (0.125+0j)*Z8 + (0.25+0j)*Z8*Z9 + (-0.26+0j)*X6*Z7*Z8*Z9*X10 + (-0.26+0j)*Y6*Z7*Z8*Z9*Y10 + (-0.26+0j)*X7*Z8*Z9*Z10*X11 + (-0.26+0j)*Y7*Z8*Z9*Z10*Y11 + (-0.375+0j)*Z11 + (0.125+0j)*Z10 + (0.25+0j)*Z10*Z11\n"
     ]
    }
   ],
   "source": [
    "# Let's see the first Hubbard hamiltonian represented as a Pauli expansion\n",
    "print(jw_pyquil_hubbard_tunnels[1])"
   ]
  },
  {
   "cell_type": "code",
   "execution_count": 43,
   "metadata": {},
   "outputs": [],
   "source": [
    "from pyquil.api import get_qc\n",
    "qc = get_qc(\"12q-qvm\")"
   ]
  },
  {
   "cell_type": "code",
   "execution_count": 44,
   "metadata": {},
   "outputs": [],
   "source": [
    "#from grove.pyvqe.vqe import VQE\n",
    "from vqe import VQE\n",
    "from scipy.optimize import minimize"
   ]
  },
  {
   "cell_type": "code",
   "execution_count": 45,
   "metadata": {},
   "outputs": [],
   "source": [
    "initial_parameters = thetas\n",
    "\n",
    "import time\n",
    "inst = VQE(minimizer=minimize, minimizer_kwargs={'method': 'COBYLA'}) # 'BFGS'"
   ]
  },
  {
   "cell_type": "code",
   "execution_count": 46,
   "metadata": {},
   "outputs": [
    {
     "name": "stdout",
     "output_type": "stream",
     "text": [
      "-------------------starting optimization---------------------\n",
      "optimization done - elapsed time is:\n",
      "33.0844568490982 minutes\n"
     ]
    }
   ],
   "source": [
    "start = time.time()\n",
    "print(\"-------------------starting optimization---------------------\")\n",
    "\n",
    "# # the VQE result at each interatomic distance is stored results_wf_sim\n",
    "coulombs_results_wf_sim = [inst.vqe_run(variational_state_evolve, \n",
    "                               ham, \n",
    "                               initial_params=initial_parameters,\n",
    "                               qc=qc, samples=None)\n",
    "                  for ham in jw_pyquil_hubbard_coulombs]\n",
    "\n",
    "\n",
    "end = time.time()\n",
    "print(\"optimization done - elapsed time is:\")\n",
    "print((end - start)/60, 'minutes')"
   ]
  },
  {
   "cell_type": "code",
   "execution_count": 47,
   "metadata": {},
   "outputs": [
    {
     "data": {
      "text/plain": [
       "[-1.1426890813730481,\n",
       " -1.3330018265168322,\n",
       " -1.5126914585368993,\n",
       " -1.6720591321126526,\n",
       " -1.7176992812524543,\n",
       " -1.9007224635754165,\n",
       " -2.0448595511300165,\n",
       " -2.1627945731765847,\n",
       " -2.327116903337025,\n",
       " -2.412578791711057,\n",
       " -2.7363764168681803,\n",
       " -2.904921603669198,\n",
       " -3.026266834452335,\n",
       " -3.1297902726221527,\n",
       " -3.2178460715050567,\n",
       " -3.3124344873688756,\n",
       " -3.3869322998856144,\n",
       " -3.4598857315806173,\n",
       " -3.510606693961045,\n",
       " -3.5602624282936617,\n",
       " -3.5968501116056193,\n",
       " -3.6272681189294693,\n",
       " -3.9906241303561383,\n",
       " -3.9996540559853995,\n",
       " -3.649124520467428,\n",
       " -3.634780693407558,\n",
       " -3.610896092727703,\n",
       " -3.576449924238313,\n",
       " -3.595830848595052,\n",
       " -3.478665025105412]"
      ]
     },
     "execution_count": 47,
     "metadata": {},
     "output_type": "execute_result"
    }
   ],
   "source": [
    "energies_coul = [res.fun for res in coulombs_results_wf_sim]\n",
    "energies_coul"
   ]
  },
  {
   "cell_type": "code",
   "execution_count": 48,
   "metadata": {},
   "outputs": [
    {
     "data": {
      "image/png": "[encoded data removed]",
      "text/plain": [
       "<Figure size 432x288 with 1 Axes>"
      ]
     },
     "metadata": {
      "needs_background": "light"
     },
     "output_type": "display_data"
    }
   ],
   "source": [
    "plt.scatter(coulombs, energies_coul, label='Fermi_Hubbard_coulomb')\n",
    "plt.ylabel('Energy (in units of T and J)')\n",
    "plt.savefig('images/FH_energy_no_noise.png', format='png', dpi=1000)\n",
    "plt.show()"
   ]
  },
  {
   "cell_type": "markdown",
   "metadata": {},
   "source": [
    "The above simulation is done algebraically. We can do same using sampling approach."
   ]
  },
  {
   "cell_type": "code",
   "execution_count": 49,
   "metadata": {
    "scrolled": false
   },
   "outputs": [],
   "source": [
    "start = time.time()\n",
    "print(\"-------------------starting optimization---------------------\")\n",
    "\n",
    "# the VQE result at each interatomic distance is stored results_wf_sim\n",
    "results_sampl = [inst.vqe_run(variational_state_evolve, \n",
    "                               ham, \n",
    "                               initial_params=initial_parameters,\n",
    "                               qc=qc, samples=100)\n",
    "                 for ham in jw_pyquil_hubbard_tunnels]\n",
    "\n",
    "\n",
    "end = time.time()\n",
    "print(\"------------optimization done - elapsed time is:--------------\")\n",
    "print((end - start)/60, 'minutes')"
   ]
  },
  {
   "cell_type": "code",
   "execution_count": null,
   "metadata": {},
   "outputs": [],
   "source": [
    "energies_sampl = [res.fun for res in results_sampl]\n",
    "print(energies_sampl)"
   ]
  },
  {
   "cell_type": "code",
   "execution_count": null,
   "metadata": {},
   "outputs": [],
   "source": [
    "plt.scatter(coulombs, energies_sampl, label='Fermi_Hubbard')\n",
    "#plt.title('Sampling without noise')\n",
    "plt.xlabel('tunnelings')\n",
    "plt.ylabel('Energy (in units of T and J)')\n",
    "plt.savefig('images/FH_energy_samp_no_noise.png', format='png', dpi=1000)\n",
    "plt.show()"
   ]
  },
  {
   "cell_type": "markdown",
   "metadata": {},
   "source": [
    "### References\n",
    "[1]  J. Hubbard, ”Electron Correlations in Narrow Energy Bands”. Proceed-ings of the Royal Society of London.276, 238 (1963)  \n",
    "[2]  R.  P.  Feynman,  “Simulating  physics  with  computers,”  InternationalJournal of Theoretical Physics21, 467 (1982).   \n",
    "[3]  I. Georgescu, et. al., “Quantum simulation,” Reviews of Modern Physics86, 153 (2014).  \n",
    "[4]  M. B. Hastings, et. al., “Improving Quantum Algorithms for QuantumChemistry,” Quantum Info. Comput.15, 1 (2015)  \n",
    "[5]  A. Kandala, et. al., “Hardware-efficient variational quantum eigensolverfor small molecules and quantum magnets,” Nature549, 242 (2017).  \n",
    "[6]  M. Reiher, et. al., “Elucidating reaction mechanisms on quantum com-puters,”  Proceedings  of  the  National  Academy  of  Sciences114,  7555(2017).  \n",
    "[7]  R.  Babbush,  et.  al.,  “Low  Depth  Quantum  Simulation  of  ElectronicStructure,” arXiv:1706.00023 (2017)  \n",
    "[8]  D.  Wecker,  et.  al.,  “Solving  strongly  correlated  electron  models  on  aquantum computer,” Physical Review A92, 062318 (2015)  \n",
    "[9]  E.  H.  Lieb  and  F.  Y.  Wu,  “Absence  of  Mott  transition  in  an  exactsolution of the short-range,  one-band model in one dimension,” Phys.Rev. Lett.20, 1445 (1968).  \n",
    "[10]  B.-X. Zheng and G. K.-L. Chan,  “Ground-state phase diagram of thesquare lattice Hubbard model from density matrix embedding theory,”Physical Review B93, 035126 (2016).  \n",
    "[11]  C. J. Jia, et. al., “Fidelity study of the superconducting phase diagramin the two-dimensional single-band Hubbard model,” Phys. Rev. B84,125113 (2011).  \n",
    "[12]  S.  Yamada,  et.  al.,  “16.447  tflops  and  159-billion-dimensional  exact-diagonalization  for  trapped  fermion-hubbard  model  on  the  earth  sim-ulator,” in Supercomputing,  2005. Proceedings of the ACM/IEEE SC2005 Conference (2005) pp. 44.  \n",
    "[13]  M.  Troyer  and  U.-J.  Wiese,  “Computational  Complexity  and  Funda-mental Limitations to Fermionic Quantum Monte Carlo Simulations,”Physical Review Letters94, 170201 (2005).  \n",
    "[14]  S. R. White, “Density-matrix algorithms for quantum renormalizationgroups,” Physical Review B48, 10345 (1993).  \n",
    "[15]  M. H. Hettler, et. al, “Dynamical cluster approximation:  Nonlocal dy-namics  of  correlated  electron  systems,”  Physical  Review  B61,  12739(2000).  \n",
    "[16]  G.  Kotliar,  et.  al.,  “Electronic  structure  calculations  with  dynamicalmean-field theory,” Reviews of Modern Physics78, 865 (2006).  \n",
    "[17]  G. Knizia and G. K.-L. Chan, “Density Matrix Embedding:  A SimpleAlternative to Dynamical Mean-Field Theory,” Physical Review Letters109, 186404 (2012).  \n",
    "[18]  G. Ortiz, et. al., “Quantum algorithms for fermionic simulations,” Phys-ical Review A64, 022319 (2001).  \n",
    "[19]  J. D. Whitfield, et. al., “Simulation of electronic structure Hamiltoniansusing quantum computers,” Molecular Physics109, 735 (2011).  \n",
    "[20]  Z. Jiang, et. al., “Quantum Algorithms to Simulate Many-Body Physicsof Correlated Fermions”, Physical Review Applied9, 044036 (2018).  \n",
    "[21]  J.  Preskill,   “Quantum  computing  in  the  NISQ  era  and  beyond,”arXiv:1801.00862 (2018).  \n",
    "[22]  J. R. McClean, et. al., ”OpenFermion:  The electronic structure packagefor quantum computers,” arXiv:1710.07629 (2017).  \n",
    "[23]  S.  B.  Bravyi  and  A.  Y.  Kitaev,  “Fermionic  Quantum  Computation,”Annals of Physics298, 210 (2002).  \n",
    "[24]  https://github.com/rigetti/pyquil   \n",
    "[25]  R. S. Smith, M. J. Curtis, and W. J. Zeng, ”A practical quantum in-struction set architecture,” arXiv:1608.03355 (2016).  \n",
    "[26]  https://github.com/gate42qc/Tutorials/blob/master/VQE/VQEforhydrogenmoleculeenergy.ipynb  \n",
    "[27]  J. D. Whitfield, et. al., “Local spin operators for fermion simulations,”Phys. Rev. A94, 030301 (2016).  \n",
    "[28]  I. D. Kivlichan, et. al., “Quantum simulation of electronic structure withlinear depth and connectivity,” arXiv:1711.04789 (2017).  \n",
    "[29]  Arute  et.  al.,  ”Quantum  supremacy  using  a  programmable  supercon-ducting processor”, Nature574, 505 (2019).  \n",
    "[30]  V. Bach, E. H. Lieb, and J. P. Solovej, “Generalized Hartree-Fock theoryand the Hubbard model,” Journal of Statistical Physics76, 3 (1994)."
   ]
  }
 ],
 "metadata": {
  "kernelspec": {
   "display_name": "Python 3",
   "language": "python",
   "name": "python3"
  },
  "language_info": {
   "codemirror_mode": {
    "name": "ipython",
    "version": 3
   },
   "file_extension": ".py",
   "mimetype": "text/x-python",
   "name": "python",
   "nbconvert_exporter": "python",
   "pygments_lexer": "ipython3",
   "version": "3.7.6"
  }
 },
 "nbformat": 4,
 "nbformat_minor": 4
}
