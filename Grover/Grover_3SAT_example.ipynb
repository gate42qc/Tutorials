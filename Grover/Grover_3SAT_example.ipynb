{
 "cells": [
  {
   "cell_type": "markdown",
   "metadata": {},
   "source": [
    "From the previous tutorial we learned that the oracle is assumed to encode the function $f$\n",
    "by a quantum circuit that acts on $n+1$ qubits. The first $n$ qubits are the input register.\n",
    "The last qubit is the output register.  \n",
    "\n",
    "<img src='images/grov_circ.png' width=400 >  \n",
    "\n",
    "The circuit that implements $f$ does not modify the input register, and it performs the modulo 2 addition between the output register and the result of $f$ applied to the input register.\n",
    "Separating the input and the output registers is standard in the quantum world because it allows reversibility of the function.\n"
   ]
  },
  {
   "cell_type": "markdown",
   "metadata": {},
   "source": [
    "## 3-SAT\n",
    "We are given a 3SAT (three satisfiability) formula that is the logical AND of a series of clauses and Boolean variables, where each clause is the logical OR of three Boolean variables or their negation. We want to find an assignment of the Boolean variables that makes the formula evaluate to **true**, ensuring that there is _exactly one true literal **per clause**_. This is an NP-hard problem.  \n",
    "\n",
    "$$f(x_1, x_2, x_3) = (x_1\\lor x_2\\lor \\neg x_3)\\land (\\neg x_1\\lor \\neg x_2\\lor \\neg x_3) \\land (\\neg x_1\\lor x_2\\lor x_3)$$  \n",
    "\n",
    "where  \n",
    "$$(...) - \\mathrm{clause} $$\n",
    "$$ x_k, \\neg x_k - \\mathrm{literal}$$\n",
    "$$\\lor - \\mathrm{or}$$\n",
    "$$\\land - \\mathrm{and}$$\n",
    "$$\\neg - \\mathrm{not}$$  \n",
    "\n",
    "We will use the instance of **exactly one** three-satisfiability, specified by the formula above.  \n"
   ]
  },
  {
   "cell_type": "markdown",
   "metadata": {},
   "source": [
    "## 1. The building blocks of Grover's algorithm: INITIALIZATION\n",
    "Remember that Grover's algorithms has three steps, \n",
    "\n",
    "- initialization, \n",
    "- sign flip, and \n",
    "- inversion about the average.\n",
    "\n",
    "Let's see how to implement these steps. We will use the first three qubits lines for the input, the fourth as output, and the remaining qubits will be auxiliary qubits. For the initialization, we apply Hadamard gates on the input lines. And on the output line, we apply an $X$-gate and then a Hadamard.  \n",
    "\n",
    "<img src='images/alg_init.png' width=200 >  \n",
    "\n"
   ]
  },
  {
   "cell_type": "code",
   "execution_count": 2,
   "metadata": {},
   "outputs": [],
   "source": [
    "from pyquil.quil import Program\n",
    "import pyquil.api as api\n",
    "from pyquil.gates import *\n",
    "from pyquil.api import get_qc\n",
    "qc = get_qc(\"8q-qvm\")"
   ]
  },
  {
   "cell_type": "code",
   "execution_count": 3,
   "metadata": {},
   "outputs": [],
   "source": [
    "# initialize state (in |0000000>)\n",
    "init = Program()\n",
    "\n",
    "# create equal superposition\n",
    "init += H(0)\n",
    "init += H(1)\n",
    "init += H(2)\n",
    "\n",
    "# setup the oracle qubit in |->=(|0>-|1>)/sqrt(2) state\n",
    "init += X(3)\n",
    "init += H(3)\n",
    "\n",
    "\n",
    "#uncomment to see the measurement distribution.\n",
    "#to later add the oracle and inversion we should not make measurement at this stage\n",
    "\n",
    "# declare classical registers to store measurement results in\n",
    "#cr = 7\n",
    "#ro = init.declare('ro', 'BIT', cr)\n",
    "#init += [MEASURE(i, ro[i]) for i in range(7)]\n",
    "#init.wrap_in_numshots_loop(50)\n",
    "#compiled_program = qc.compile(init)\n",
    "#results = qc.run(compiled_program)\n",
    "#print(results)"
   ]
  },
  {
   "cell_type": "markdown",
   "metadata": {},
   "source": [
    "At this point, the state of the input qubits is in the uniform superposition.\n",
    "All amplitudes are equal.   \n",
    "\n",
    "<img src='images/uniform_sup.png' width=400 >  \n"
   ]
  },
  {
   "cell_type": "markdown",
   "metadata": {},
   "source": [
    "## 2. The building blocks of Grover's algorithm: THE ORACLE\n",
    "Now let's start with the **Oracle** that takes care of the sign flip.  \n",
    "To construct the function $f$, we need a quantum circuit that acts on qubits encoding the Boolean variables, and determines if this formula is satisfied.  \n",
    "Notice that the circuit that implements $f$ should simply be able to decide if the Boolean assignment corresponding to the binary string it is given as input satisfies the formula. Determining and returning the satisfying assignment will be the goal of Grover's algorithm, not of the function $f$.  \n",
    "The example formula has three Boolean variables, $x_1$, $x_2$, and $x_3$. There are eight possible assignments.  \n",
    "\n",
    "||||||\n",
    "|-|-|-|-|---|\n",
    "|$x_1$|$x_2$|$x_3$|$f$ True/False|comment|\n",
    "|0|0|0|0|secont clause has 3 true literal|\n",
    "|0|0|1|0|secont clause has 2 true literal|\n",
    "|0|1|0|0|secont clause has 2 true literal|\n",
    "|0|1|1|0|third clause has 2 true literal|\n",
    "|1|0|0|0|secont clause has 2 true literal|\n",
    "|1|0|1|1|Bingo!|\n",
    "|1|1|0|0|first clause has 2 true literal|\n",
    "|1|1|1|0|secont clause is not satisfied|"
   ]
  },
  {
   "cell_type": "markdown",
   "metadata": {},
   "source": [
    "Let's call $U_f$ the unitary matrix that implements $f$. We can implement $U_f$ in several ways.\n",
    "For simplicity, we have composed the problem of computing $U_f$ by introducing _three auxiliary qubits, one for each clause_.  \n",
    "For each clause, we construct a circuit that sets the corresponding zero qubit to one if and only if the clause has exactly one true term.  \n",
    "Finally, the output register of $U_f$ is set to $1$ if and only if all three auxiliary qubits are $1$.\n",
    "For example, the circuit sets the bottom qubit $y_1$ to one for the clause $(x_1 \\lor x_2 \\lor \\neg x_3)$.  \n",
    "\n",
    "The $X$ gate flips the qubit corresponding to $x_3$ because $x_3$ appears negated in the clause.\n",
    "Using three CNOT gates, we set $y_1 = (x_1 \\lor x_2 \\lor \\neg x_3)$, implying that $y_1$ is equal to one if an odd number of literals is satisfied.  \n",
    "\n",
    "<img src='images/clause_circ_y1.png' width=400 >  \n",
    "\n",
    "Since we want $y_1 = 1$ if and only if exactly one literal is satisfied, we use a triply-controlled not gate to finally implement the desired formula. The last $X$ gate simply resets the state of the qubit $x_3$.\n"
   ]
  },
  {
   "cell_type": "markdown",
   "metadata": {},
   "source": [
    "In a similar way, we can implement the circuit that checks whether the second clause \n",
    "$(\\neg x_1 \\lor \\neg x_2 \\lor \\neg x_3)$  is satisfied,  \n",
    "\n",
    "<img src='images/clause_circ_y2.png' width=400 >  \n",
    "\n",
    "and one for the third clause -- $(\\neg x_1 \\lor x_2 \\lor x_3)$.  \n",
    "\n",
    "<img src='images/clause_circ_y3.png' width=400 >  \n",
    "\n",
    "To implement this circuit there is a small obstacle, the triply-controlled not gate is not part of the basic gate set. Such a gate can be implemented in several ways. For simplicity, we choose to do it\n",
    "using 3 doubly-controlled not gates and one auxiliary qubit, as we show in the image.  \n",
    "\n",
    "<img src='images/triply_c_gate.png' width=300 >  \n",
    "\n"
   ]
  },
  {
   "cell_type": "markdown",
   "metadata": {},
   "source": [
    "In the circuit, we can quickly verify that $q[4]$ is set to $1$ if and only if $q[0]$, $q[1]$, $q[2]$ are $1$.  \n",
    "The final doubly-controlled-not **resets** the state of the auxiliary qubit $q[3]$. Remember that if you plan to re-use the auxiliary qubits, you should leave them in the same state as they begin.  \n",
    "\n",
    "With this blocks, we can construct the full circuit that implements $U_f$ using four auxiliary qubits,\n",
    "one for each of the three clauses, and one for the triply-controlled not. For each of the three clauses, we set the corresponding auxiliary qubit to $1$ if the clause is satisfied (blue). Then we apply a logical AND between these three auxiliary qubits (green).  \n",
    "\n",
    "<img src='images/final_func_circ.png' width=800 >  \n",
    "\n",
    "Finally, we run the same circuit in reverse to reset the state of the auxiliary qubits (red). \n",
    "\n",
    "\n",
    "Let's implement the Oracle."
   ]
  },
  {
   "cell_type": "code",
   "execution_count": 4,
   "metadata": {},
   "outputs": [],
   "source": [
    "clause_1_oracle = Program()\n",
    "clause_1_oracle += X(2)\n",
    "clause_1_oracle += CNOT(0,4)\n",
    "clause_1_oracle += CNOT(1,4)\n",
    "clause_1_oracle += CNOT(2,4)\n",
    "\n",
    "# logical AND1\n",
    "clause_1_oracle += CCNOT(0,1,7)\n",
    "clause_1_oracle += CCNOT(2,7,4)\n",
    "clause_1_oracle += CCNOT(0,1,7)\n",
    "clause_1_oracle += X(2)"
   ]
  },
  {
   "cell_type": "code",
   "execution_count": 5,
   "metadata": {},
   "outputs": [],
   "source": [
    "clause_2_oracle = Program()\n",
    "clause_2_oracle += X(0)\n",
    "clause_2_oracle += X(1)\n",
    "clause_2_oracle += X(2)\n",
    "clause_2_oracle += CNOT(0,5)\n",
    "clause_2_oracle += CNOT(1,5)\n",
    "clause_2_oracle += CNOT(2,5)\n",
    "\n",
    "# logical AND2\n",
    "clause_2_oracle += CCNOT(0,1,7)\n",
    "clause_2_oracle += CCNOT(2,7,5)\n",
    "clause_2_oracle += CCNOT(0,1,7)\n",
    "\n",
    "clause_2_oracle += X(0)\n",
    "clause_2_oracle += X(1)\n",
    "clause_2_oracle += X(2)"
   ]
  },
  {
   "cell_type": "code",
   "execution_count": 6,
   "metadata": {},
   "outputs": [],
   "source": [
    "clause_3_oracle = Program()\n",
    "clause_3_oracle += X(0)\n",
    "clause_3_oracle += CNOT(0,6)\n",
    "clause_3_oracle += CNOT(1,6)\n",
    "clause_3_oracle += CNOT(2,6)\n",
    "\n",
    "# logical AND3\n",
    "clause_3_oracle += CCNOT(0,1,7)\n",
    "clause_3_oracle += CCNOT(2,7,6)\n",
    "clause_3_oracle += CCNOT(0,1,7)\n",
    "clause_3_oracle += X(0)"
   ]
  },
  {
   "cell_type": "code",
   "execution_count": 7,
   "metadata": {},
   "outputs": [],
   "source": [
    "forward_oracle = clause_1_oracle + clause_2_oracle + clause_3_oracle"
   ]
  },
  {
   "cell_type": "code",
   "execution_count": 8,
   "metadata": {},
   "outputs": [],
   "source": [
    "# Logical AND between 3 auxillaries\n",
    "readout_oracle = Program()\n",
    "readout_oracle += CCNOT(4,5,7)\n",
    "readout_oracle += CCNOT(7,6,3)\n",
    "readout_oracle += CCNOT(4,5,7)"
   ]
  },
  {
   "cell_type": "markdown",
   "metadata": {},
   "source": [
    "And finally, the overall oracle is a concatenation of forward-, redout- and the reversing circuit which is the same as the forward oracle"
   ]
  },
  {
   "cell_type": "code",
   "execution_count": 9,
   "metadata": {},
   "outputs": [],
   "source": [
    "oracle = forward_oracle + readout_oracle + forward_oracle"
   ]
  },
  {
   "cell_type": "markdown",
   "metadata": {},
   "source": [
    "### 3. Inversion About the Average\n",
    "\n",
    "The last step is the inversion about the average. It is implemented by this simple circuit (**the first X gate on the upper qubit should be a Hadamard**), which we can easily verify applies the matrix shown below.  \n",
    "\n",
    "<img src='images/inversion.png' width=400 >  \n",
    "\n",
    "$$\\begin{pmatrix}\n",
    "-3/4 & 1/4 & 1/4 & 1/4 & 1/4 & 1/4 & 1/4 & 1/4 \\\\\n",
    "1/4 & -3/4 & 1/4 & 1/4 & 1/4 & 1/4 & 1/4 & 1/4 \\\\\n",
    "1/4 & 1/4 & -3/4 & 1/4 & 1/4 & 1/4 & 1/4 & 1/4 \\\\\n",
    "1/4 & 1/4 & 1/4 & -3/4 & 1/4 & 1/4 & 1/4 & 1/4 \\\\\n",
    "1/4 & 1/4 & 1/4 & 1/4 & -3/4 & 1/4 & 1/4 & 1/4 \\\\\n",
    "1/4 & 1/4 & 1/4 & 1/4 & 1/4 & -3/4 & 1/4 & 1/4 \\\\\n",
    "1/4 & 1/4 & 1/4 & 1/4 & 1/4 & 1/4 & -3/4 & 1/4 \\\\\n",
    "1/4 & 1/4 & 1/4 & 1/4 & 1/4 & 1/4 & 1/4 & -3/4 \n",
    "\\end{pmatrix}  = \\frac{1}{4}\\mathbf{1}^T\\mathbf{1}- I\n",
    "$$\n",
    "\n",
    "The matrix has the effect of mapping each amplitude to twice the average coefficient minus the amplitude itself. Because the average is smaller than most of the coefficients, all amplitudes except the negative one gets reduced. And the negative one gets amplified. **This is one iteration of Grover's algorithm.**  \n",
    "The optimal number of iterations, $k$, can be found using the formula  \n",
    "\n",
    "$$k \\arcsin \\frac{2\\sqrt{2^n-1}}{2^n} \\approx \\frac{\\pi}{2} $$  \n",
    "\n",
    "from which we derive that we must perform one iteration. This simply means that we should append to the overall circuit another copy of the circuit that performs a sign flip, and another copy of the circuit that performs the inversion about the average. And that's it.  \n"
   ]
  },
  {
   "cell_type": "code",
   "execution_count": 10,
   "metadata": {},
   "outputs": [],
   "source": [
    "inversion = Program()\n",
    "inversion += H(0)\n",
    "inversion += H(1)\n",
    "inversion += H(2)\n",
    "inversion += X(0)\n",
    "inversion += X(1)\n",
    "inversion += X(2)\n",
    "\n",
    "# the equivaltent of controlled-controlled-Z\n",
    "inversion += H(2)\n",
    "inversion += CCNOT(0,1,2)\n",
    "inversion += H(2)\n",
    "\n",
    "inversion += X(0)\n",
    "inversion += X(1)\n",
    "inversion += X(2)\n",
    "inversion += H(0)\n",
    "inversion += H(1)\n",
    "inversion += H(2)\n"
   ]
  },
  {
   "cell_type": "markdown",
   "metadata": {},
   "source": [
    "We can now run this circuit on the simulator and look at the results."
   ]
  },
  {
   "cell_type": "code",
   "execution_count": 11,
   "metadata": {},
   "outputs": [],
   "source": [
    "grover_iters = 1\n",
    "grover_iter =  oracle + inversion\n",
    "\n",
    "# the final Grover algorithm\n",
    "grover = init + [grover_iter for _ in range(grover_iters)]"
   ]
  },
  {
   "cell_type": "markdown",
   "metadata": {},
   "source": [
    "Finally, let's measure first 3 registers (1000 times, to plot histogram to see which is the solution $x_1x_2x_3$)"
   ]
  },
  {
   "cell_type": "code",
   "execution_count": 12,
   "metadata": {},
   "outputs": [],
   "source": [
    "cr = 8\n",
    "ro = init.declare('ro', 'BIT', cr)\n",
    "grover += [MEASURE(i, ro[i]) for i in range(3)]"
   ]
  },
  {
   "cell_type": "code",
   "execution_count": 13,
   "metadata": {},
   "outputs": [
    {
     "name": "stderr",
     "output_type": "stream",
     "text": [
      "/usr/local/lib/python3.7/site-packages/pyquil/quil.py:979: UserWarning: Please DECLARE all memory. I'm adding a declaration for the `ro` register, but I won't do this for you in the future.\n",
      "  \"Please DECLARE all memory. I'm adding a declaration for the `ro` register, \"\n"
     ]
    }
   ],
   "source": [
    "grover.wrap_in_numshots_loop(1000)\n",
    "compiled_program = qc.compile(grover)\n",
    "results = qc.run(compiled_program)"
   ]
  },
  {
   "cell_type": "code",
   "execution_count": 14,
   "metadata": {},
   "outputs": [],
   "source": [
    "import matplotlib.pyplot as plt\n",
    "import numpy as np\n",
    "import itertools\n",
    "\n",
    "def plot_histogram(result):\n",
    "    if isinstance(result, dict):\n",
    "        outcomes = np.vstack(result.values()).T\n",
    "    else:\n",
    "        outcomes = result\n",
    "    trials, classical_bits = outcomes.shape\n",
    "    stats = {}\n",
    "    for bits in itertools.product('01', repeat=classical_bits):\n",
    "        stats[\"\".join(str(bit) for bit in bits)] = 0\n",
    "    for i in range(trials):\n",
    "        stats[\"\".join(str(bit) for bit in outcomes[i])] += 1\n",
    "    x = np.arange(len(stats))\n",
    "    plt.bar(x, stats.values())\n",
    "    plt.xticks(x, stats.keys())\n",
    "    plt.show()"
   ]
  },
  {
   "cell_type": "code",
   "execution_count": 16,
   "metadata": {},
   "outputs": [
    {
     "data": {
      "image/png": "[encoded data removed]",
      "text/plain": [
       "<Figure size 432x288 with 1 Axes>"
      ]
     },
     "metadata": {
      "needs_background": "light"
     },
     "output_type": "display_data"
    }
   ],
   "source": [
    "plot_histogram(results)"
   ]
  },
  {
   "cell_type": "markdown",
   "metadata": {},
   "source": [
    " As you can see, this is in agreement with the truth table in [section 2](http://localhost:8888/notebooks/Grover_3SAT_example.ipynb#2.-The-building-blocks-of-Grover's-algorithm:-THE-ORACLE)"
   ]
  }
 ],
 "metadata": {
  "kernelspec": {
   "display_name": "Python 3",
   "language": "python",
   "name": "python3"
  },
  "language_info": {
   "codemirror_mode": {
    "name": "ipython",
    "version": 3
   },
   "file_extension": ".py",
   "mimetype": "text/x-python",
   "name": "python",
   "nbconvert_exporter": "python",
   "pygments_lexer": "ipython3",
   "version": "3.7.6"
  }
 },
 "nbformat": 4,
 "nbformat_minor": 2
}
