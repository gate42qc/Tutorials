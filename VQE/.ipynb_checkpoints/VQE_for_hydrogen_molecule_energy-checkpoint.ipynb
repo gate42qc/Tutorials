{
 "cells": [
  {
   "cell_type": "markdown",
   "metadata": {},
   "source": [
    "# <center> Variational Quantum Eigensolver (VQE) for Diatomic Molecules </center>\n",
    "## <center> Case study: Molecular Hydrogen $H_2$ </center>"
   ]
  },
  {
   "cell_type": "markdown",
   "metadata": {},
   "source": [
    "In this tutorial we introduce the Variational Quantum Eigensolver (VQE) by providing the necessary background and demonstrating its implementation to find the ground state energy for Hydrogen molecule.  \n",
    "\n",
    "**Let's describe the problem:**   \n",
    "Finding ground state energy of many-body interacting fermionic $k$-local Hamiltonians (i.e. the terms of Hamiltonian act on at most $k$ particles) is equivalent to solving the eigenvalue problem for ground state energy:    \n",
    "$$H\\lvert \\Phi \\rangle = E_{ground}\\lvert \\Phi \\rangle  \\hspace{1cm}(1)$$  \n",
    "\n",
    "For $k \\geq 2$ the problem in the full generality is QMA-complete ([SIAM J. Comput. 35, 1070 (2006)](http://citeseerx.ist.psu.edu/viewdoc/download?doi=10.1.1.95.3391&rep=rep1&type=pdf)). QMA stands for [Quantum Merlin-Arthur](https://en.wikipedia.org/wiki/QMA), the quantum analog of the nonprobabilistic complexity class NP or the probabilistic complexity class MA. It is related to BQP (bounded-error quantum, probabilistic) in the same way NP is related to P, or MA is related to BPP.  \n",
    "\n",
    "We will solve the eigenvalue problem for the Hydrogen molecule $H_2$ using the VQE algorithm. The choice of this algorithm is made because it requires less qubit coherence time, a bottleneck for current quantum computers harware. We have [previously solved the same problem](https://github.com/gate42qc/pea_hydrogen-molecule) using another algorithm called Quantum Phase Estimation. QPE is not hardware efficient as one of the steps in the algorithm requires Trotterization in the exponentiation of the Hamiltonian, thus making the gate sequence to arrive to a solution prohibitively long for current lifetimes of qubits.  \n"
   ]
  },
  {
   "cell_type": "markdown",
   "metadata": {},
   "source": [
    "## <center> VQE </center>\n",
    "VQE uses Ritz’s variational principle to prepare **_approximations_** to the ground state and compute its energy. The advantage of VQE over classical simulation methods is that is can prepare trial states that are not amenable to efficient classical numerics.   \n",
    "  \n",
    "Let's describe how it works step-by-step. \n",
    "\n",
    "1. The quantum computer is used to prepare variational trial states that depend on a set of parameters  (image taken from [arXiv:1704.05018](https://arxiv.org/pdf/1704.05018.pdf)).  <img src=\"images/vqe_circuit.png\">\n",
    " In the image the 6 horizontal lines represent the qubits. The circuit is composed of a sequence of interleaved single-qubit rotations, and entangling unitary operations $U_{ENT}$ that entangle all the qubits in the circuit. A final set of post-rotations prior to qubit readout are used to measure the expectation values of the terms in the qubit Hamiltonian (see next step), and estimate the energy of the trial state.\n",
    "\n",
    "2. The expectation value of the energy (the cost function) is estimated and used by a classical optimizer to generate a new set of improved parameters. \n",
    "    * For the energy expectation sampling procedure, firstly it is convenient to expand the Hamiltonian in the Pauli basis  $$H = \\sum_{i=1}^T \\alpha_i P_i  \\hspace{1cm} (2)$$\n",
    "    where $P_i \\in \\{I, \\sigma_x, \\sigma_y, \\sigma_z\\}^{\\otimes N}$ is a tensor product of single-qubit Pauli operators on $N$ qubits.\n",
    "    * The energy can be obtained averaging the Hamiltonian in the quantum state prepared by our circuit in the step 1 $$\\langle H \\rangle = \\sum_{i=1}^T \\alpha_i \\langle P_i\\rangle \\hspace{1cm}  (3)$$\n",
    "    * Each Pauli term then **can be sampled from the circuit** in step 1 by doing appropriate qubit post-rotations beforhand (the last vertical gate array in the image above).  \n",
    "    \n",
    "\n",
    "Overall, the algorithm pseudocode looks as follows:\n",
    "\n",
    "```code\n",
    "Algorithm: Hardware-efficient optimization of quantum Hamiltonian problems  \n",
    "1: Map the quantum Hamiltonian problem to a qubit Hamiltonian H  \n",
    "2: Choose a depth d for the quantum circuit that prepares the trial state  \n",
    "3: Choose a set of variational controls θ_1 that parametrize the starting trial state  \n",
    "4: Choose a number of samples S for the feedback loop and one Sf for the final estimation  \n",
    "5: Choose a number of maximal control updates kL  \n",
    "6: while Ef has not converged do  \n",
    "7:     procedure Quantum Feedback Loop  \n",
    "8:         for k = 1 to kL do  \n",
    "9:             Prepare trial states around θ_k and evaluate <H> with S samples  \n",
    "10:            Update and store the controls θ_k  \n",
    "11:        end for  \n",
    "12:        Evaluate Ef = <H> using the best controls with Sf samples  \n",
    "13:    end procedure  \n",
    "14:    Increase d, kL, S, Sf  \n",
    "15: end while  \n",
    "16: return Ef  \n",
    "```  \n",
    "\n",
    "Note, that VQE is a very flexible algorithm - there are many variants and modifications. Don't feel confused if you see a VQE which is different from the particular implementation we use here - the general idea behind the algorithm is the same."
   ]
  },
  {
   "cell_type": "markdown",
   "metadata": {},
   "source": [
    "## <center> Step by step:</center> \n",
    "### <center>1. Mapping the Hamiltonian to qubit Hamiltonian </center>\n",
    "For this tutorial, we will estimate the **Hydrogen molecule**'s ground state energy. For that end, we start using the [OpenFermion](https://github.com/quantumlib/OpenFermion) package to construct the Hydrogen molecule. To reproduce the code in this tutorial, please make sure to install all the required packages.  \n",
    "\n",
    "First let's make the necessary imports:"
   ]
  },
  {
   "cell_type": "code",
   "execution_count": 1,
   "metadata": {},
   "outputs": [],
   "source": [
    "from openfermion.hamiltonians import MolecularData\n",
    "from openfermion.transforms import get_fermion_operator, jordan_wigner\n",
    "from openfermion.ops import QubitOperator\n",
    "from forestopenfermion import pyquilpauli_to_qubitop, qubitop_to_pyquilpauli\n",
    "from openfermionpyscf import run_pyscf"
   ]
  },
  {
   "cell_type": "markdown",
   "metadata": {},
   "source": [
    "Let's create function that accepts diatomic molecule's name and interatomic bond distance as arguments and returns a data structure (`PauliSum`), a representation of the molecule's information, acceptable for Rigetti's quantum computer or simulator. One can also repeat this for other platforms, e.g. IBM-Q."
   ]
  },
  {
   "cell_type": "code",
   "execution_count": 2,
   "metadata": {},
   "outputs": [],
   "source": [
    "def get_diatomic_hamiltonian(atom_1, atom_2, bond_dist):\n",
    "    \"\"\"\n",
    "    creates a diatomic hamiltonian using openfermion library\n",
    "    :param bond_dist: float, the geometrical distance between Hydrogen atoms\n",
    "    :param name: string, name of the molecule, e.g. 'H' for Hydrogen molecule\n",
    "    returns a pyquil PauliTerm object\n",
    "    \"\"\"\n",
    "    #-------------------------------------------------------#\n",
    "    # constructing Hamiltonian in the second quantized form\n",
    "    #-------------------------------------------------------#\n",
    "    geometry = [[atom_1, [0, 0, 0]], [atom_2, [0, 0, bond_dist]]] # H--H min energy distance = 0.74pm\n",
    "    basis = 'sto-3g'\n",
    "    multiplicity = 1 #(2S+1)\n",
    "    charge = 0\n",
    "    molecule = MolecularData(geometry, basis, multiplicity, charge)\n",
    "    # this calculates necessary integrals for coefficients in 2nd quantized form\n",
    "    molecule = run_pyscf(molecule) \n",
    "    \n",
    "    #-------------------------------------------------------#\n",
    "    # constructing Hamiltonian in the qubit representation\n",
    "    #-------------------------------------------------------#\n",
    "    qubit_hamiltonian = jordan_wigner(get_fermion_operator(molecule.get_molecular_hamiltonian()))\n",
    "    pyquil_qubit_hamiltonian = qubitop_to_pyquilpauli(qubit_hamiltonian)\n",
    "    #-------------------------------------------------------#\n",
    "    \n",
    "    return pyquil_qubit_hamiltonian"
   ]
  },
  {
   "cell_type": "markdown",
   "metadata": {},
   "source": [
    "Let's look at the created qubit representation of the Hamiltonian of Hydrogen molecule at bond sidtance of 0.74pm. We do it by printing the output of the above function:"
   ]
  },
  {
   "cell_type": "code",
   "execution_count": 3,
   "metadata": {},
   "outputs": [
    {
     "name": "stdout",
     "output_type": "stream",
     "text": [
      "<class 'pyquil.paulis.PauliSum'> \n",
      "\n",
      "(-0.09706626816762878+0j)*I + (0.1714128264477689+0j)*Z0 + (0.17141282644776892+0j)*Z1 + (-0.22343153690813564+0j)*Z2 + (-0.22343153690813558+0j)*Z3 + (0.16868898170361207+0j)*Z0*Z1 + (0.045302615503799264+0j)*Y0*X1*X2*Y3 + (-0.045302615503799264+0j)*Y0*Y1*X2*X3 + (-0.045302615503799264+0j)*X0*X1*Y2*Y3 + (0.045302615503799264+0j)*X0*Y1*Y2*X3 + (0.12062523483390414+0j)*Z0*Z2 + (0.1659278503377034+0j)*Z0*Z3 + (0.1659278503377034+0j)*Z1*Z2 + (0.12062523483390414+0j)*Z1*Z3 + (0.1744128761226159+0j)*Z2*Z3\n"
     ]
    }
   ],
   "source": [
    "print(type(get_diatomic_hamiltonian('H', 'H', 0.74)), '\\n')\n",
    "print(get_diatomic_hamiltonian('H', 'H', 0.74))"
   ]
  },
  {
   "cell_type": "markdown",
   "metadata": {},
   "source": [
    "We have just represented the Hamiltonian in the form of Eq (2). A term such as $X0*X1*Y2*Y3$ is a 4-qubit Pauli operator, an operator from $\\mathcal{(C^2)}^{\\otimes 4}$. The asteriscs should be understood as tensor products $\\otimes$. Whereas a term with one operator, say, $Z0$, should be understood as $Z0*I1*I2*I3$, where $Ik$ stand for the identity operator acting on the qubit $k$.  \n",
    "Later we will sample the expected value of such operators, sum them up with the respective coefficients in the above Hamiltonian, hence estimate the mean energy. To make sure we have the ground state energy, we have to construct the ground state by implementing the circuit in the picture above. Let's do it."
   ]
  },
  {
   "cell_type": "markdown",
   "metadata": {},
   "source": [
    "### <center> 2. Implementing the state preparation circuit </center>"
   ]
  },
  {
   "cell_type": "markdown",
   "metadata": {},
   "source": [
    "Now that we know that the Hamiltonian is an operator from Hilbert space $\\mathcal{H^{\\otimes 4}}$, below we define 4 qubits to start with"
   ]
  },
  {
   "cell_type": "code",
   "execution_count": 4,
   "metadata": {},
   "outputs": [],
   "source": [
    "number_of_qubits = 4\n",
    "qubits = [0, 1, 2, 3]"
   ]
  },
  {
   "cell_type": "markdown",
   "metadata": {},
   "source": [
    "Let's now create the necessary pieces to construct the circuit. For details, see the description of the `get_ansatz_circuit_generator` (and other pieces of code it uses) in the module `random_circuit` in the same directory as this jupyter notebook."
   ]
  },
  {
   "cell_type": "code",
   "execution_count": 5,
   "metadata": {},
   "outputs": [],
   "source": [
    "import numpy as np\n",
    "import random\n",
    "from pyquil.quil import Program\n",
    "import pyquil.api as api\n",
    "from pyquil.gates import *\n",
    "# we also import a function from module random_circuit we created\n",
    "from random_circuit import get_ansatz_circuit_generator"
   ]
  },
  {
   "cell_type": "code",
   "execution_count": 6,
   "metadata": {},
   "outputs": [],
   "source": [
    "#print(type(variational_state_evolve(thetas)))  # <class 'pyquil.quil.Program'>\n",
    "d = 1 # the loop depth\n",
    "# this function passed into vqe_run as argument\n",
    "variational_state_evolve = get_ansatz_circuit_generator(qubits, d)"
   ]
  },
  {
   "cell_type": "markdown",
   "metadata": {},
   "source": [
    "### <center> 3. Choosing a set of variational controls $\\vec{θ}$ that parametrize the trial state </center>"
   ]
  },
  {
   "cell_type": "code",
   "execution_count": 7,
   "metadata": {},
   "outputs": [],
   "source": [
    "thetas = np.random.rand(number_of_qubits*(d+1))*np.pi"
   ]
  },
  {
   "cell_type": "code",
   "execution_count": 8,
   "metadata": {},
   "outputs": [
    {
     "name": "stdout",
     "output_type": "stream",
     "text": [
      "[1.57415558 0.67004611 1.89750825 1.64577852 1.72786479 3.00986187\n",
      " 1.29586158 1.89653   ] \n",
      "\n",
      " PRAGMA PRESERVE_BLOCK\n",
      "RX(1.5741555773302385) 0\n",
      "RY(0.6700461060613627) 1\n",
      "RX(1.6457785196219412) 2\n",
      "RZ(1.8975082524388098) 3\n",
      "PRAGMA END_PRESERVE_BLOCK\n",
      "PRAGMA PRESERVE_BLOCK\n",
      "CZ 0 1\n",
      "CZ 1 2\n",
      "CZ 2 3\n",
      "RX(1.7278647869269406) 0\n",
      "RY(3.0098618730835898) 1\n",
      "RX(1.8965300038727027) 2\n",
      "RZ(1.295861581143853) 3\n",
      "PRAGMA END_PRESERVE_BLOCK\n",
      "\n"
     ]
    }
   ],
   "source": [
    "# initialize thetas \n",
    "#thetas = np.random.rand(4*number_of_qubits*d)*2*np.pi\n",
    "\n",
    "print(thetas, '\\n\\n', variational_state_evolve(thetas))"
   ]
  },
  {
   "cell_type": "markdown",
   "metadata": {},
   "source": [
    "### <center> Steps 4-16 are implemented in Rigetti's algorithms library [Grove, VQE](https://github.com/rigetti/grove/blob/master/grove/pyvqe/vqe.py) </center>  \n",
    "\n",
    "In orther to use the vqe instance from Grove, we need some imports.\n",
    "The imports include the `minimize` function from `scipy.optimize`. This function will take care of finding the best parameters of our quantum circuit to sample energy expectations.\n",
    "(make sure you have installed pyquil and started `quilc -S` and `qvm -S` in 2 different terminals)"
   ]
  },
  {
   "cell_type": "code",
   "execution_count": 9,
   "metadata": {},
   "outputs": [],
   "source": [
    "from pyquil.api import get_qc\n",
    "qc = get_qc(\"4q-qvm\")\n",
    "\n",
    "# can call the below options\n",
    "# qc = WavefunctionSimulator ## to debug algorithm\n",
    "# qc = get_qc(\"5q-qvm\") ## to debug sampling\n",
    "# qc = get_qc(\"9q-square-qvm\") ## to debug mapping to a lattice\n",
    "# qc = get_qc(\"9q-square-noisy-qvm\") ## to debug generic noise characteristics\n",
    "# qc = get_qc(\"Aspen-0-16Q-A-qvm\") ## to debug mapping to a real lattice\n",
    "# qc = get_qc(\"Aspen-0-16Q-A-noisy-qvm\") ## to debug noise characteristics of a real device\n",
    "# qc = get_qc(\"Aspen-0-16Q-A\") ## to run on a real device"
   ]
  },
  {
   "cell_type": "code",
   "execution_count": 10,
   "metadata": {},
   "outputs": [],
   "source": [
    "#from grove.pyvqe.vqe import VQE\n",
    "from vqe import VQE\n",
    "from scipy.optimize import minimize"
   ]
  },
  {
   "cell_type": "markdown",
   "metadata": {},
   "source": [
    "The VQE object has a method `vqe_run` that takes all the arguments in the algorithm and takes care of the minimization routine. The arguments are, specifically,\n",
    "- **variational_state_evolve**: function that takes a set of parameters and returns a pyQuil program.\n",
    "- **hamiltonian**: (PauliSum) object representing the hamiltonian of which to take the expectation value.\n",
    "- **initial_params**: (ndarray) vector of initial parameters for the optimization\n",
    "- **gate_noise**: list of Px, Py, Pz probabilities of gate being applied to every gate after each get application\n",
    "- **measurement_noise**: list of Px', Py', Pz' probabilities of a X, Y or Z being applied before a measurement.\n",
    "- **jacobian**: (optional) method of generating jacobian for parameters (Default=None).\n",
    "- _**qc**: (optional) QuantumComputer object._ (not supported yet, [see the issue in github](https://github.com/rigetti/grove/issues/184)), instead use **qvm** wavefunction simulator\n",
    "- **disp**: (optional, use print, default None) display level. If True then each iteration expectation and parameters are printed at each optimization iteration.\n",
    "- **samples**: (int) Number of samples for calculating the expectation value of the operators.  If `None` then faster method, dotting the wave function with the operator, is used. Default=None.\n",
    "- **return_all**: (optional, bool) request to return all intermediate parameters determined during the optimization.\n"
   ]
  },
  {
   "cell_type": "markdown",
   "metadata": {},
   "source": [
    "Let's prepare the arguments beforehand."
   ]
  },
  {
   "cell_type": "code",
   "execution_count": 12,
   "metadata": {},
   "outputs": [
    {
     "data": {
      "text/plain": [
       "11"
      ]
     },
     "execution_count": 12,
     "metadata": {},
     "output_type": "execute_result"
    }
   ],
   "source": [
    "bond_dists = np.arange(0.2, 1.75, 0.15)\n",
    "# get Hamiltonians for each interatomic distance\n",
    "hamiltonians = [get_diatomic_hamiltonian('H', 'H', bond_dist) for bond_dist in bond_dists]\n",
    "initial_parameters = thetas\n",
    "len(bond_dists)"
   ]
  },
  {
   "cell_type": "code",
   "execution_count": 14,
   "metadata": {},
   "outputs": [],
   "source": [
    "import time\n",
    "inst = VQE(minimizer=minimize, minimizer_kwargs={'method': 'COBYLA'}) # 'BFGS'"
   ]
  },
  {
   "cell_type": "markdown",
   "metadata": {},
   "source": [
    "Now we are ready to run the VQE for our state preparation circuit and compute the mean energy for the specified Hydrogen molecule Hamiltonian. Running the below code will take some time (the `time` module counts it)"
   ]
  },
  {
   "cell_type": "markdown",
   "metadata": {},
   "source": [
    "Below, the expectation value of Hamiltonian $H$ on ansatz state is directly calculated through matrix multiplication $\\langle \\psi_{ansatz} \\lvert H \\rvert \\psi_{ansatz}\\rangle$. This is done when we don't specify samples: `samples=None`"
   ]
  },
  {
   "cell_type": "code",
   "execution_count": 15,
   "metadata": {},
   "outputs": [
    {
     "name": "stdout",
     "output_type": "stream",
     "text": [
      "-------------------starting optimization---------------------\n",
      "------------optimization done - elapsed time is:--------------\n",
      "2.967904524008433 minutes\n"
     ]
    }
   ],
   "source": [
    "start = time.time()\n",
    "print(\"-------------------starting optimization---------------------\")\n",
    "\n",
    "# # the VQE result at each interatomic distance is stored results_wf_sim\n",
    "results_wf_sim = [inst.vqe_run(variational_state_evolve, \n",
    "                               hamiltonian, \n",
    "                               initial_params=initial_parameters,\n",
    "                               qc=qc, samples=None) \n",
    "                  for hamiltonian in hamiltonians]\n",
    "\n",
    "\n",
    "end = time.time()\n",
    "print(\"------------optimization done - elapsed time is:--------------\")\n",
    "print((end - start)/60, 'minutes')"
   ]
  },
  {
   "cell_type": "markdown",
   "metadata": {},
   "source": [
    "Now let's see the optimized circuit parameters for each Hamiltonian corresponding to different interatomic distances specified in `bond_dists` for $H_2$ molecule. Below is the output of `vqe_run` method, a list of dictionaries, in which the value for key `'x'` represents the learned parameters for state preparation circuit, and the value for key `'fun'` represents the corresponding the scalar value of the objective function, the energy expectation in our case."
   ]
  },
  {
   "cell_type": "code",
   "execution_count": 16,
   "metadata": {
    "scrolled": true
   },
   "outputs": [],
   "source": [
    "# wavefunction simulation results\n",
    "energies_wf_sim = [res.fun for res in results_wf_sim]\n",
    "best_thetas_wf_sim = [res.x for res in results_wf_sim]"
   ]
  },
  {
   "cell_type": "code",
   "execution_count": 17,
   "metadata": {},
   "outputs": [],
   "source": [
    "import matplotlib.pyplot as plt\n",
    "plt.style.use('ggplot')\n",
    "%matplotlib inline"
   ]
  },
  {
   "cell_type": "code",
   "execution_count": 18,
   "metadata": {},
   "outputs": [
    {
     "data": {
      "image/png": "[encoded data removed]",
      "text/plain": [
       "<Figure size 432x288 with 1 Axes>"
      ]
     },
     "metadata": {},
     "output_type": "display_data"
    }
   ],
   "source": [
    "plt.plot(bond_dists, energies_wf_sim, lw=3)\n",
    "plt.title('Wavefunction simpulator')\n",
    "plt.xlabel('Atomc distance (Angstrom)')\n",
    "plt.ylabel('Energy (Hartree)')\n",
    "plt.savefig('images/H2_energy.png', format='png', dpi=1000)\n",
    "plt.show()"
   ]
  },
  {
   "cell_type": "markdown",
   "metadata": {},
   "source": [
    "The above VQE instance when no samples provided is implemented such a way to make function minimization faster and will not work if one modelled gate and measurement noise cases. "
   ]
  },
  {
   "cell_type": "markdown",
   "metadata": {},
   "source": [
    "### Estimating energy expectation via sampling\n",
    "If you still want to try with samples (and no noise), it may take some time. Why?  \n",
    "* It makes optimization of `number_of_qubits + number_of_qubits*d` parameters for ansatz state preparation circuit `variational_state_evolve` \n",
    "* for the cost function being the Hamiltonian Eq(3) \n",
    "* which contains 15 terms (each being a 16 dimentional operator in Hilbert space, PauliTerm object) for $H_2$, \n",
    "* for each term evaluates expectation from number of samples you provide (and sums them up)\n",
    "* all above done for `len(bond_dists)` different bond distances"
   ]
  },
  {
   "cell_type": "code",
   "execution_count": 21,
   "metadata": {},
   "outputs": [],
   "source": [
    "qc_no_noise = get_qc(\"4q-qvm\", noisy=False)"
   ]
  },
  {
   "cell_type": "code",
   "execution_count": 22,
   "metadata": {},
   "outputs": [],
   "source": [
    "inst_samp = VQE(minimizer=minimize, minimizer_kwargs={'method': 'COBYLA'}) # 'BFGS'"
   ]
  },
  {
   "cell_type": "markdown",
   "metadata": {},
   "source": [
    "Running the below code will take long time (hours)."
   ]
  },
  {
   "cell_type": "code",
   "execution_count": 44,
   "metadata": {
    "scrolled": true
   },
   "outputs": [
    {
     "name": "stdout",
     "output_type": "stream",
     "text": [
      "-------------------starting optimization---------------------\n"
     ]
    },
    {
     "name": "stderr",
     "output_type": "stream",
     "text": [
      "/home/hakob/anaconda3/lib/python3.6/site-packages/pyquil/paulis.py:120: FutureWarning: `PauliTerm.id()` will not work on PauliTerms where the qubits are not sortable and should be avoided in favor of `operations_as_set`.\n",
      "  FutureWarning)\n"
     ]
    },
    {
     "name": "stdout",
     "output_type": "stream",
     "text": [
      "-------------------optimization done. elapsed time is:---------------------\n",
      "68.9519035577774 minutes\n"
     ]
    }
   ],
   "source": [
    "# Returns the optimal parameters and minimum expecation\n",
    "start = time.time()\n",
    "print(\"-------------------starting optimization---------------------\")\n",
    "\n",
    "# the VQE result at each interatomic distance is stored results_sampl\n",
    "results_sampl = [inst_samp.vqe_run(variational_state_evolve, \n",
    "                                     ham, \n",
    "                                     initial_params=initial_parameters, \n",
    "                                     qc=qc_no_noise,\n",
    "                                     samples=100) \n",
    "                 for ham in hamiltonians]\n",
    "\n",
    "\n",
    "end = time.time()\n",
    "print(\"-------------------optimization done. elapsed time is:---------------------\")\n",
    "print((end - start)/60, 'minutes')"
   ]
  },
  {
   "cell_type": "code",
   "execution_count": 45,
   "metadata": {},
   "outputs": [],
   "source": [
    "# sampling results\n",
    "energies_sampl = [res.fun for res in results_sampl]"
   ]
  },
  {
   "cell_type": "markdown",
   "metadata": {},
   "source": [
    "## <center> Running with noise </center>\n",
    "\n",
    "Running VQE for noisy simulator requires to run with samples option provided. When runnig VQE on real hardware the noisy simulation should capture the imperfections of NISQ hardware.  \n",
    "Prepare corresponding parameters to feed to `vqe_run` with `samples=` some number you choose and noise options. "
   ]
  },
  {
   "cell_type": "code",
   "execution_count": null,
   "metadata": {},
   "outputs": [],
   "source": [
    "inst_noisy = VQE(minimizer=minimize, minimizer_kwargs={'method': 'COBYLA'}) # 'BFGS'\n",
    "noisy_qc = get_qc(\"4q-qvm\", noisy=True)\n",
    "#pauli_channel = [0.005, 0.005, 0.005] #10% chance of each gate at each timestep, works when qc=None\n",
    "#meas_channel = [0.1, 0.1, 0.1] #10% chance of each gate at each measurement, works when qc=None\n",
    "#noisy_meas_qvm = api.QVMConnection(measurement_noise=meas_channel)"
   ]
  },
  {
   "cell_type": "code",
   "execution_count": 46,
   "metadata": {},
   "outputs": [
    {
     "name": "stdout",
     "output_type": "stream",
     "text": [
      "-------------------starting optimization---------------------\n"
     ]
    },
    {
     "name": "stderr",
     "output_type": "stream",
     "text": [
      "/home/hakob/anaconda3/lib/python3.6/site-packages/pyquil/paulis.py:120: FutureWarning: `PauliTerm.id()` will not work on PauliTerms where the qubits are not sortable and should be avoided in favor of `operations_as_set`.\n",
      "  FutureWarning)\n"
     ]
    },
    {
     "name": "stdout",
     "output_type": "stream",
     "text": [
      "-------------------optimization done. elapsed time is:---------------------\n",
      "97.70369223753612 minutes\n"
     ]
    }
   ],
   "source": [
    "start = time.time()\n",
    "print(\"-------------------starting optimization---------------------\")\n",
    "\n",
    "# the VQE result at each interatomic distance is stored results_sampl\n",
    "results_sampl = [inst_samp_noisy.vqe_run(variational_state_evolve, \n",
    "                                    ham, \n",
    "                                    initial_params=initial_parameters, \n",
    "                                    qc=noisy_qc,\n",
    "                                    samples=100) \n",
    "                 for ham in hamiltonians]\n",
    "\n",
    "\n",
    "end = time.time()\n",
    "print(\"-------------------optimization done. elapsed time is:---------------------\")\n",
    "print((end - start)/60, 'minutes')"
   ]
  },
  {
   "cell_type": "code",
   "execution_count": 47,
   "metadata": {},
   "outputs": [],
   "source": [
    "#noisy_energies_sampl = [res.fun for res in results_sampl]"
   ]
  },
  {
   "cell_type": "code",
   "execution_count": 48,
   "metadata": {},
   "outputs": [
    {
     "data": {
      "image/png": "[encoded data removed]",
      "text/plain": [
       "<Figure size 432x288 with 1 Axes>"
      ]
     },
     "metadata": {},
     "output_type": "display_data"
    }
   ],
   "source": [
    "plt.scatter(bond_dists, energies_sampl, label='vqe_sampling')\n",
    "plt.scatter(bond_dists, noisy_energies_sampl, label='vqe_noisy_sampling')\n",
    "plt.title('Sampling with noise')\n",
    "plt.xlabel('Atomc distance (Angstrom)')\n",
    "plt.ylabel('Energy (Hartree)')\n",
    "plt.legend(loc='upper right')\n",
    "plt.savefig('images/H2_energy_sam.png', format='png', dpi=1000)\n",
    "plt.show()"
   ]
  },
  {
   "cell_type": "markdown",
   "metadata": {},
   "source": [
    "#### TODO: Reduce noise by error mitigation technique"
   ]
  },
  {
   "cell_type": "code",
   "execution_count": 52,
   "metadata": {},
   "outputs": [],
   "source": [
    "#! pip install git+https://github.com/maghamalyan/em-pyquil"
   ]
  },
  {
   "cell_type": "code",
   "execution_count": 54,
   "metadata": {},
   "outputs": [],
   "source": [
    "from em_pyquil import apply_em, apply_noise\n",
    "\n",
    "noisy_qc_custom = apply_noise(get_qc(\"4q-qvm\"))\n",
    "em_qc = apply_em(get_qc(\"4q-qvm\"))"
   ]
  },
  {
   "cell_type": "code",
   "execution_count": 55,
   "metadata": {
    "scrolled": false
   },
   "outputs": [
    {
     "name": "stdout",
     "output_type": "stream",
     "text": [
      "-------------------starting optimization---------------------\n"
     ]
    },
    {
     "name": "stderr",
     "output_type": "stream",
     "text": [
      "/home/hakob/anaconda3/lib/python3.6/site-packages/pyquil/paulis.py:120: FutureWarning: `PauliTerm.id()` will not work on PauliTerms where the qubits are not sortable and should be avoided in favor of `operations_as_set`.\n",
      "  FutureWarning)\n"
     ]
    },
    {
     "name": "stdout",
     "output_type": "stream",
     "text": [
      "-------------------optimization done. elapsed time is:---------------------\n",
      "245.7018890619278 minutes\n"
     ]
    }
   ],
   "source": [
    "start = time.time()\n",
    "print(\"-------------------starting optimization---------------------\")\n",
    "\n",
    "# the VQE result at each interatomic distance is stored results_sampl\n",
    "noisy_results = [inst_noise.vqe_run(variational_state_evolve, \n",
    "                                    ham, \n",
    "                                    initial_params=initial_parameters,                                     \n",
    "                                    qc=noisy_qc_custom, \n",
    "                                    samples=100) \n",
    "                 for ham in hamiltonians]\n",
    "\n",
    "\n",
    "end = time.time()\n",
    "print(\"-------------------optimization done. elapsed time is:---------------------\")\n",
    "print((end - start)/60, 'minutes')"
   ]
  },
  {
   "cell_type": "code",
   "execution_count": 56,
   "metadata": {},
   "outputs": [],
   "source": [
    "noisy_energies = [res.fun for res in noisy_results]"
   ]
  },
  {
   "cell_type": "code",
   "execution_count": 57,
   "metadata": {},
   "outputs": [
    {
     "name": "stdout",
     "output_type": "stream",
     "text": [
      "-------------------starting optimization---------------------\n"
     ]
    },
    {
     "name": "stderr",
     "output_type": "stream",
     "text": [
      "/home/hakob/anaconda3/lib/python3.6/site-packages/pyquil/paulis.py:120: FutureWarning: `PauliTerm.id()` will not work on PauliTerms where the qubits are not sortable and should be avoided in favor of `operations_as_set`.\n",
      "  FutureWarning)\n"
     ]
    },
    {
     "name": "stdout",
     "output_type": "stream",
     "text": [
      "-------------------optimization done. elapsed time is:---------------------\n",
      "894.6494341214498 minutes\n"
     ]
    }
   ],
   "source": [
    "start = time.time()\n",
    "print(\"-------------------starting optimization---------------------\")\n",
    "\n",
    "# the VQE result at each interatomic distance is stored results_sampl\n",
    "results_EM = [inst_noise.vqe_run(variational_state_evolve, ham, initial_params=initial_parameters, \n",
    "                                    gate_noise=None, measurement_noise=None,\n",
    "                                    jacobian=None, qc=em_qc, disp=None, \n",
    "                                    samples=5, return_all=False) \n",
    "                 for ham in hamiltonians]\n",
    "\n",
    "\n",
    "end = time.time()\n",
    "print(\"-------------------optimization done. elapsed time is:---------------------\")\n",
    "print((end - start)/60, 'minutes')"
   ]
  },
  {
   "cell_type": "code",
   "execution_count": 58,
   "metadata": {},
   "outputs": [],
   "source": [
    "EM_energies = [res.fun for res in results_EM]"
   ]
  },
  {
   "cell_type": "code",
   "execution_count": 59,
   "metadata": {},
   "outputs": [
    {
     "data": {
      "image/png": "[encoded data removed]",
      "text/plain": [
       "<Figure size 432x288 with 1 Axes>"
      ]
     },
     "metadata": {},
     "output_type": "display_data"
    }
   ],
   "source": [
    "plt.scatter(bond_dists, energies_sampl, label='vqe_no_noise')\n",
    "plt.scatter(bond_dists, EM_energies, label='vqe_mitigated')\n",
    "plt.scatter(bond_dists, noisy_energies, label='vqe_noisy')\n",
    "plt.title('Sampling with-, without noise and mitigated noise')\n",
    "plt.xlabel('Atomc distance (Angstrom)')\n",
    "plt.ylabel('Energy (Hartree)')\n",
    "plt.legend(loc='upper right')\n",
    "plt.savefig('images/H2_energy.png', format='png', dpi=1000)\n",
    "plt.show()"
   ]
  },
  {
   "cell_type": "code",
   "execution_count": 60,
   "metadata": {},
   "outputs": [
    {
     "data": {
      "image/png": "[encoded data removed]",
      "text/plain": [
       "<Figure size 432x288 with 1 Axes>"
      ]
     },
     "metadata": {},
     "output_type": "display_data"
    }
   ],
   "source": [
    "plt.plot(bond_dists, energies_sampl, label='vqe_no_noise')\n",
    "plt.plot(bond_dists, EM_energies, label='vqe_mitigated')\n",
    "plt.plot(bond_dists, noisy_energies, label='vqe_noisy')\n",
    "plt.title('Sampling with-, without noise and mitigated noise')\n",
    "plt.xlabel('Atomc distance (Angstrom)')\n",
    "plt.ylabel('Energy (Hartree)')\n",
    "plt.legend(loc='upper right')\n",
    "#plt.savefig('images/H2_energy.png', format='png', dpi=1000)\n",
    "plt.show()"
   ]
  }
 ],
 "metadata": {
  "kernelspec": {
   "display_name": "Python 3",
   "language": "python",
   "name": "python3"
  },
  "language_info": {
   "codemirror_mode": {
    "name": "ipython",
    "version": 3
   },
   "file_extension": ".py",
   "mimetype": "text/x-python",
   "name": "python",
   "nbconvert_exporter": "python",
   "pygments_lexer": "ipython3",
   "version": "3.6.4"
  }
 },
 "nbformat": 4,
 "nbformat_minor": 4
}
